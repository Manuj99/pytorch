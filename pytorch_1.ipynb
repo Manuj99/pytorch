{
  "nbformat": 4,
  "nbformat_minor": 0,
  "metadata": {
    "colab": {
      "provenance": [],
      "authorship_tag": "ABX9TyMgyfuV3y2fayLxhYJFf06x",
      "include_colab_link": true
    },
    "kernelspec": {
      "name": "python3",
      "display_name": "Python 3"
    },
    "language_info": {
      "name": "python"
    }
  },
  "cells": [
    {
      "cell_type": "markdown",
      "metadata": {
        "id": "view-in-github",
        "colab_type": "text"
      },
      "source": [
        "<a href=\"https://colab.research.google.com/github/Manuj99/pytorch/blob/pytorch_1/pytorch_1.ipynb\" target=\"_parent\"><img src=\"https://colab.research.google.com/assets/colab-badge.svg\" alt=\"Open In Colab\"/></a>"
      ]
    },
    {
      "cell_type": "code",
      "execution_count": 2,
      "metadata": {
        "colab": {
          "base_uri": "https://localhost:8080/"
        },
        "id": "LOG_8SKkZsIX",
        "outputId": "8470f535-0350-46cc-e206-4d7740f15ac2"
      },
      "outputs": [
        {
          "output_type": "stream",
          "name": "stdout",
          "text": [
            "2.8.0+cu126\n"
          ]
        }
      ],
      "source": [
        "import torch\n",
        "import pandas as pd\n",
        "import numpy as np\n",
        "import matplotlib.pyplot as plt\n",
        "\n",
        "print(torch.__version__)"
      ]
    },
    {
      "cell_type": "code",
      "source": [
        "!nvidia-smi"
      ],
      "metadata": {
        "colab": {
          "base_uri": "https://localhost:8080/"
        },
        "id": "cNWpEstiZ6t9",
        "outputId": "bc010667-7355-4e26-9b46-2fa60cf04f02"
      },
      "execution_count": 3,
      "outputs": [
        {
          "output_type": "stream",
          "name": "stdout",
          "text": [
            "/bin/bash: line 1: nvidia-smi: command not found\n"
          ]
        }
      ]
    },
    {
      "cell_type": "code",
      "source": [
        "#scaler\n",
        "scaler = torch.tensor(7)\n",
        "scaler"
      ],
      "metadata": {
        "colab": {
          "base_uri": "https://localhost:8080/"
        },
        "id": "duiyL02YaC2r",
        "outputId": "665f2f72-295d-4450-95d0-22bef1aa5cc4"
      },
      "execution_count": 5,
      "outputs": [
        {
          "output_type": "execute_result",
          "data": {
            "text/plain": [
              "tensor(7)"
            ]
          },
          "metadata": {},
          "execution_count": 5
        }
      ]
    },
    {
      "cell_type": "code",
      "source": [
        "scaler.ndim"
      ],
      "metadata": {
        "colab": {
          "base_uri": "https://localhost:8080/"
        },
        "id": "GKupSQOfaZbF",
        "outputId": "ed877163-fafc-4dd9-bb0d-769e67368f02"
      },
      "execution_count": 6,
      "outputs": [
        {
          "output_type": "execute_result",
          "data": {
            "text/plain": [
              "0"
            ]
          },
          "metadata": {},
          "execution_count": 6
        }
      ]
    },
    {
      "cell_type": "code",
      "source": [
        "scaler.item()"
      ],
      "metadata": {
        "colab": {
          "base_uri": "https://localhost:8080/"
        },
        "id": "PgIjjrTAakDP",
        "outputId": "8f763248-ec87-41ac-b031-934e292ee056"
      },
      "execution_count": 7,
      "outputs": [
        {
          "output_type": "execute_result",
          "data": {
            "text/plain": [
              "7"
            ]
          },
          "metadata": {},
          "execution_count": 7
        }
      ]
    },
    {
      "cell_type": "code",
      "source": [
        "vector = torch.tensor([1,4])\n",
        "vector"
      ],
      "metadata": {
        "colab": {
          "base_uri": "https://localhost:8080/"
        },
        "id": "GosI9g0jam3o",
        "outputId": "8e89833c-45f2-4e65-bdd3-3342841bd430"
      },
      "execution_count": 8,
      "outputs": [
        {
          "output_type": "execute_result",
          "data": {
            "text/plain": [
              "tensor([1, 4])"
            ]
          },
          "metadata": {},
          "execution_count": 8
        }
      ]
    },
    {
      "cell_type": "code",
      "source": [
        "vector.ndim"
      ],
      "metadata": {
        "colab": {
          "base_uri": "https://localhost:8080/"
        },
        "id": "Yxj39_lzar8d",
        "outputId": "da68a894-771d-4bd4-ceac-4e5ff6cd5fcc"
      },
      "execution_count": 9,
      "outputs": [
        {
          "output_type": "execute_result",
          "data": {
            "text/plain": [
              "1"
            ]
          },
          "metadata": {},
          "execution_count": 9
        }
      ]
    },
    {
      "cell_type": "code",
      "source": [
        "vector.shape"
      ],
      "metadata": {
        "colab": {
          "base_uri": "https://localhost:8080/"
        },
        "id": "ywYhEZQeawWs",
        "outputId": "9e7e7f25-0764-44ac-e605-6e2ef86c9130"
      },
      "execution_count": 12,
      "outputs": [
        {
          "output_type": "execute_result",
          "data": {
            "text/plain": [
              "torch.Size([2])"
            ]
          },
          "metadata": {},
          "execution_count": 12
        }
      ]
    },
    {
      "cell_type": "code",
      "source": [
        "matrix = torch.tensor([[1,4], [2,5]])\n",
        "matrix"
      ],
      "metadata": {
        "colab": {
          "base_uri": "https://localhost:8080/"
        },
        "id": "D_RWD6K1ayEY",
        "outputId": "ad87a651-8a8c-475e-8b24-3f32d26b5691"
      },
      "execution_count": 14,
      "outputs": [
        {
          "output_type": "execute_result",
          "data": {
            "text/plain": [
              "tensor([[1, 4],\n",
              "        [2, 5]])"
            ]
          },
          "metadata": {},
          "execution_count": 14
        }
      ]
    },
    {
      "cell_type": "code",
      "source": [
        "matrix.ndim"
      ],
      "metadata": {
        "colab": {
          "base_uri": "https://localhost:8080/"
        },
        "id": "qzTy3YgDa_UU",
        "outputId": "cd956013-0119-420b-d6d7-5bd11f23d19e"
      },
      "execution_count": 16,
      "outputs": [
        {
          "output_type": "execute_result",
          "data": {
            "text/plain": [
              "2"
            ]
          },
          "metadata": {},
          "execution_count": 16
        }
      ]
    },
    {
      "cell_type": "code",
      "source": [
        "matrix.shape"
      ],
      "metadata": {
        "colab": {
          "base_uri": "https://localhost:8080/"
        },
        "id": "xU2KTX3ebC0t",
        "outputId": "4fb178ac-ccab-467d-89e4-216d7bff0a45"
      },
      "execution_count": 17,
      "outputs": [
        {
          "output_type": "execute_result",
          "data": {
            "text/plain": [
              "torch.Size([2, 2])"
            ]
          },
          "metadata": {},
          "execution_count": 17
        }
      ]
    },
    {
      "cell_type": "code",
      "source": [
        "matrix[1]"
      ],
      "metadata": {
        "colab": {
          "base_uri": "https://localhost:8080/"
        },
        "id": "qjax-sc2bGg3",
        "outputId": "4a00c8e3-a1d6-48d4-fe4b-963921881009"
      },
      "execution_count": 18,
      "outputs": [
        {
          "output_type": "execute_result",
          "data": {
            "text/plain": [
              "tensor([2, 5])"
            ]
          },
          "metadata": {},
          "execution_count": 18
        }
      ]
    },
    {
      "cell_type": "code",
      "source": [
        "tensor = torch.tensor([[[1,2,3],[4,5,6]]])\n",
        "tensor"
      ],
      "metadata": {
        "colab": {
          "base_uri": "https://localhost:8080/"
        },
        "id": "O47AAOT4bKug",
        "outputId": "d90d03d9-2491-4694-a54f-83596c5b94de"
      },
      "execution_count": 23,
      "outputs": [
        {
          "output_type": "execute_result",
          "data": {
            "text/plain": [
              "tensor([[[1, 2, 3],\n",
              "         [4, 5, 6]]])"
            ]
          },
          "metadata": {},
          "execution_count": 23
        }
      ]
    },
    {
      "cell_type": "code",
      "source": [
        "tensor.ndim"
      ],
      "metadata": {
        "colab": {
          "base_uri": "https://localhost:8080/"
        },
        "id": "kvDpakvlbV3t",
        "outputId": "43110d09-fa25-4e85-c597-7132546d245e"
      },
      "execution_count": 24,
      "outputs": [
        {
          "output_type": "execute_result",
          "data": {
            "text/plain": [
              "3"
            ]
          },
          "metadata": {},
          "execution_count": 24
        }
      ]
    },
    {
      "cell_type": "code",
      "source": [
        "tensor.shape"
      ],
      "metadata": {
        "colab": {
          "base_uri": "https://localhost:8080/"
        },
        "id": "aqZ3isQ9bj_g",
        "outputId": "7c2a31b3-b5aa-4476-b51a-ebfd6239ee4b"
      },
      "execution_count": 25,
      "outputs": [
        {
          "output_type": "execute_result",
          "data": {
            "text/plain": [
              "torch.Size([1, 2, 3])"
            ]
          },
          "metadata": {},
          "execution_count": 25
        }
      ]
    },
    {
      "cell_type": "code",
      "source": [
        "tensor[0][1][2].item()"
      ],
      "metadata": {
        "colab": {
          "base_uri": "https://localhost:8080/"
        },
        "id": "obwLAed6boL1",
        "outputId": "9d4f43d3-fce9-4de0-e379-caaa9aff71ac"
      },
      "execution_count": 30,
      "outputs": [
        {
          "output_type": "execute_result",
          "data": {
            "text/plain": [
              "6"
            ]
          },
          "metadata": {},
          "execution_count": 30
        }
      ]
    },
    {
      "cell_type": "code",
      "source": [
        "# Creating Random Tensors of size (3, 4)\n",
        "random_tensor = torch.rand(3,3,5)\n",
        "random_tensor\n"
      ],
      "metadata": {
        "colab": {
          "base_uri": "https://localhost:8080/"
        },
        "id": "RyajVlnpcHOr",
        "outputId": "59c2d25a-f8d9-4d56-d36a-321484fa4ede"
      },
      "execution_count": 34,
      "outputs": [
        {
          "output_type": "execute_result",
          "data": {
            "text/plain": [
              "tensor([[[0.5084, 0.4800, 0.2152, 0.5863, 0.8041],\n",
              "         [0.9046, 0.3503, 0.3122, 0.5366, 0.1114],\n",
              "         [0.8962, 0.2940, 0.3575, 0.6200, 0.2991]],\n",
              "\n",
              "        [[0.1226, 0.2942, 0.2460, 0.5779, 0.7898],\n",
              "         [0.9926, 0.1843, 0.2015, 0.0210, 0.0137],\n",
              "         [0.2788, 0.9071, 0.3618, 0.3010, 0.8520]],\n",
              "\n",
              "        [[0.6162, 0.2346, 0.8859, 0.1707, 0.8437],\n",
              "         [0.7018, 0.9820, 0.4659, 0.1915, 0.0339],\n",
              "         [0.5476, 0.7924, 0.3471, 0.1283, 0.4692]]])"
            ]
          },
          "metadata": {},
          "execution_count": 34
        }
      ]
    },
    {
      "cell_type": "code",
      "source": [
        "random_image_size_tensor = torch.rand(3,224,224)"
      ],
      "metadata": {
        "id": "lES2886_ddAZ"
      },
      "execution_count": 35,
      "outputs": []
    },
    {
      "cell_type": "code",
      "source": [
        "random_image_size_tensor"
      ],
      "metadata": {
        "colab": {
          "base_uri": "https://localhost:8080/"
        },
        "id": "QGea8s7uetyi",
        "outputId": "3eb338fc-8028-45b5-d380-727141557b02"
      },
      "execution_count": 36,
      "outputs": [
        {
          "output_type": "execute_result",
          "data": {
            "text/plain": [
              "tensor([[[0.7632, 0.0259, 0.4321,  ..., 0.2985, 0.6083, 0.4574],\n",
              "         [0.0638, 0.9295, 0.8079,  ..., 0.7579, 0.1516, 0.4009],\n",
              "         [0.6982, 0.2549, 0.6396,  ..., 0.2154, 0.5374, 0.6070],\n",
              "         ...,\n",
              "         [0.6873, 0.4811, 0.9958,  ..., 0.2192, 0.7870, 0.3003],\n",
              "         [0.0450, 0.4612, 0.4448,  ..., 0.3661, 0.7236, 0.8281],\n",
              "         [0.1688, 0.1219, 0.8697,  ..., 0.3438, 0.2288, 0.1710]],\n",
              "\n",
              "        [[0.3397, 0.6493, 0.6649,  ..., 0.1367, 0.2960, 0.7163],\n",
              "         [0.9967, 0.0508, 0.3163,  ..., 0.5168, 0.4954, 0.7816],\n",
              "         [0.2688, 0.6893, 0.8816,  ..., 0.7435, 0.8773, 0.0165],\n",
              "         ...,\n",
              "         [0.6624, 0.4557, 0.2108,  ..., 0.6203, 0.4806, 0.6284],\n",
              "         [0.8059, 0.6363, 0.2961,  ..., 0.8052, 0.9442, 0.0948],\n",
              "         [0.7730, 0.3907, 0.2266,  ..., 0.3835, 0.4658, 0.5188]],\n",
              "\n",
              "        [[0.0379, 0.0723, 0.6469,  ..., 0.7681, 0.5329, 0.8299],\n",
              "         [0.1156, 0.5203, 0.3652,  ..., 0.6857, 0.8276, 0.6184],\n",
              "         [0.4751, 0.8196, 0.9690,  ..., 0.5409, 0.7268, 0.5269],\n",
              "         ...,\n",
              "         [0.0395, 0.6707, 0.7434,  ..., 0.3839, 0.1604, 0.9918],\n",
              "         [0.7834, 0.0960, 0.5619,  ..., 0.3773, 0.0343, 0.4792],\n",
              "         [0.3498, 0.4286, 0.6857,  ..., 0.5783, 0.9580, 0.3300]]])"
            ]
          },
          "metadata": {},
          "execution_count": 36
        }
      ]
    },
    {
      "cell_type": "code",
      "source": [
        "random_image_size_tensor.ndim"
      ],
      "metadata": {
        "colab": {
          "base_uri": "https://localhost:8080/"
        },
        "id": "TS-R3qhXeumY",
        "outputId": "fd75522b-290b-45e8-cac7-2054db17111f"
      },
      "execution_count": 37,
      "outputs": [
        {
          "output_type": "execute_result",
          "data": {
            "text/plain": [
              "3"
            ]
          },
          "metadata": {},
          "execution_count": 37
        }
      ]
    },
    {
      "cell_type": "code",
      "source": [
        "random_image_size_tensor.shape"
      ],
      "metadata": {
        "colab": {
          "base_uri": "https://localhost:8080/"
        },
        "id": "YgoaLTdVe0ek",
        "outputId": "b93175ae-12af-45ee-8b1b-ea0268b48aa6"
      },
      "execution_count": 38,
      "outputs": [
        {
          "output_type": "execute_result",
          "data": {
            "text/plain": [
              "torch.Size([3, 224, 224])"
            ]
          },
          "metadata": {},
          "execution_count": 38
        }
      ]
    },
    {
      "cell_type": "code",
      "source": [],
      "metadata": {
        "id": "uMX6xJ8Fe3gH"
      },
      "execution_count": 39,
      "outputs": []
    },
    {
      "cell_type": "markdown",
      "source": [
        "#Zeros and ones"
      ],
      "metadata": {
        "id": "jc0NG6xvfc8D"
      }
    },
    {
      "cell_type": "code",
      "source": [
        "zeros = torch.zeros(size = (3,6))\n",
        "zeros"
      ],
      "metadata": {
        "colab": {
          "base_uri": "https://localhost:8080/"
        },
        "id": "6B5sdvkzfZCB",
        "outputId": "c89473ba-6ba9-4418-c807-fa53dae12ff8"
      },
      "execution_count": 52,
      "outputs": [
        {
          "output_type": "execute_result",
          "data": {
            "text/plain": [
              "tensor([[0., 0., 0., 0., 0., 0.],\n",
              "        [0., 0., 0., 0., 0., 0.],\n",
              "        [0., 0., 0., 0., 0., 0.]])"
            ]
          },
          "metadata": {},
          "execution_count": 52
        }
      ]
    },
    {
      "cell_type": "code",
      "source": [
        "ones = torch.ones(size=(2,5))"
      ],
      "metadata": {
        "id": "T_4g2Pt9f3VV"
      },
      "execution_count": 45,
      "outputs": []
    },
    {
      "cell_type": "code",
      "source": [
        "ones"
      ],
      "metadata": {
        "colab": {
          "base_uri": "https://localhost:8080/"
        },
        "id": "bu9h_q3pgRH6",
        "outputId": "8ba90f9b-cb2b-4030-ff72-32f4a5b20222"
      },
      "execution_count": 46,
      "outputs": [
        {
          "output_type": "execute_result",
          "data": {
            "text/plain": [
              "tensor([[1., 1., 1., 1., 1.],\n",
              "        [1., 1., 1., 1., 1.]])"
            ]
          },
          "metadata": {},
          "execution_count": 46
        }
      ]
    },
    {
      "cell_type": "code",
      "source": [
        "ones.dtype"
      ],
      "metadata": {
        "colab": {
          "base_uri": "https://localhost:8080/"
        },
        "id": "qFcZOzZUgR0V",
        "outputId": "3b05e8da-332d-482c-ab73-082b8b19a3a9"
      },
      "execution_count": 48,
      "outputs": [
        {
          "output_type": "execute_result",
          "data": {
            "text/plain": [
              "torch.float32"
            ]
          },
          "metadata": {},
          "execution_count": 48
        }
      ]
    },
    {
      "cell_type": "code",
      "source": [
        "zeros.dtype"
      ],
      "metadata": {
        "colab": {
          "base_uri": "https://localhost:8080/"
        },
        "id": "eFRHpRiSgeqP",
        "outputId": "82827a75-f20d-47c4-c238-17280803a130"
      },
      "execution_count": 50,
      "outputs": [
        {
          "output_type": "execute_result",
          "data": {
            "text/plain": [
              "torch.float32"
            ]
          },
          "metadata": {},
          "execution_count": 50
        }
      ]
    },
    {
      "cell_type": "code",
      "source": [
        "tensor.dtype"
      ],
      "metadata": {
        "colab": {
          "base_uri": "https://localhost:8080/"
        },
        "id": "JBJqmJtvgf8p",
        "outputId": "5e99fddb-668d-49ab-f5de-c5bcbb7d21ad"
      },
      "execution_count": 51,
      "outputs": [
        {
          "output_type": "execute_result",
          "data": {
            "text/plain": [
              "torch.int64"
            ]
          },
          "metadata": {},
          "execution_count": 51
        }
      ]
    },
    {
      "cell_type": "code",
      "source": [
        "zeros_3 = torch.zeros(size = (2,3,3))\n",
        "zeros_3"
      ],
      "metadata": {
        "colab": {
          "base_uri": "https://localhost:8080/"
        },
        "id": "QXYlVa6sgjdw",
        "outputId": "0efe06ba-fcb0-417d-9137-a942cfb89cf5"
      },
      "execution_count": 54,
      "outputs": [
        {
          "output_type": "execute_result",
          "data": {
            "text/plain": [
              "tensor([[[0., 0., 0.],\n",
              "         [0., 0., 0.],\n",
              "         [0., 0., 0.]],\n",
              "\n",
              "        [[0., 0., 0.],\n",
              "         [0., 0., 0.],\n",
              "         [0., 0., 0.]]])"
            ]
          },
          "metadata": {},
          "execution_count": 54
        }
      ]
    },
    {
      "cell_type": "code",
      "source": [
        "#creating a range of tensrs and tensos-like"
      ],
      "metadata": {
        "id": "rKunEljahTNz"
      },
      "execution_count": 55,
      "outputs": []
    },
    {
      "cell_type": "code",
      "source": [
        "# torch.range(1,10)\n",
        "torch.arange(1,10)"
      ],
      "metadata": {
        "colab": {
          "base_uri": "https://localhost:8080/"
        },
        "id": "AXLc65S_hoPc",
        "outputId": "7ac94c6a-572e-4914-b1af-7f10808796a2"
      },
      "execution_count": 58,
      "outputs": [
        {
          "output_type": "execute_result",
          "data": {
            "text/plain": [
              "tensor([1, 2, 3, 4, 5, 6, 7, 8, 9])"
            ]
          },
          "metadata": {},
          "execution_count": 58
        }
      ]
    },
    {
      "cell_type": "code",
      "source": [
        "one_to_100 = torch.arange(start=0,end=100,step=6)\n",
        "one_to_100"
      ],
      "metadata": {
        "colab": {
          "base_uri": "https://localhost:8080/"
        },
        "id": "8eOyEFJzh7Ym",
        "outputId": "ef5ac378-0e43-441b-ed0c-2e9fbced7e2c"
      },
      "execution_count": 66,
      "outputs": [
        {
          "output_type": "execute_result",
          "data": {
            "text/plain": [
              "tensor([ 0,  6, 12, 18, 24, 30, 36, 42, 48, 54, 60, 66, 72, 78, 84, 90, 96])"
            ]
          },
          "metadata": {},
          "execution_count": 66
        }
      ]
    },
    {
      "cell_type": "code",
      "source": [
        "#creating tensors like"
      ],
      "metadata": {
        "id": "uRO7Flp0ieeN"
      },
      "execution_count": 67,
      "outputs": []
    },
    {
      "cell_type": "code",
      "source": [
        "ten_zeros = torch.zeros_like(input=one_to_100)\n",
        "ten_zeros"
      ],
      "metadata": {
        "colab": {
          "base_uri": "https://localhost:8080/"
        },
        "id": "zD8FGA8EitDf",
        "outputId": "ea8fefcb-967d-4414-e9cb-d261c46bc948"
      },
      "execution_count": 69,
      "outputs": [
        {
          "output_type": "execute_result",
          "data": {
            "text/plain": [
              "tensor([0, 0, 0, 0, 0, 0, 0, 0, 0, 0, 0, 0, 0, 0, 0, 0, 0])"
            ]
          },
          "metadata": {},
          "execution_count": 69
        }
      ]
    },
    {
      "cell_type": "code",
      "source": [
        "float_32_tensor = torch.tensor([1,2,3], dtype=None, device='cpu', requires_grad=false)"
      ],
      "metadata": {
        "id": "9_F9siyWlJRe"
      },
      "execution_count": null,
      "outputs": []
    }
  ]
}