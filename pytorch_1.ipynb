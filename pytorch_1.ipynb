{
  "nbformat": 4,
  "nbformat_minor": 0,
  "metadata": {
    "colab": {
      "provenance": [],
      "authorship_tag": "ABX9TyNs7m9U72GaTWo58eG0nvJh",
      "include_colab_link": true
    },
    "kernelspec": {
      "name": "python3",
      "display_name": "Python 3"
    },
    "language_info": {
      "name": "python"
    }
  },
  "cells": [
    {
      "cell_type": "markdown",
      "metadata": {
        "id": "view-in-github",
        "colab_type": "text"
      },
      "source": [
        "<a href=\"https://colab.research.google.com/github/Manuj99/pytorch/blob/pytorch_1/pytorch_1.ipynb\" target=\"_parent\"><img src=\"https://colab.research.google.com/assets/colab-badge.svg\" alt=\"Open In Colab\"/></a>"
      ]
    },
    {
      "cell_type": "code",
      "source": [
        "!nvidia-smi"
      ],
      "metadata": {
        "colab": {
          "base_uri": "https://localhost:8080/"
        },
        "id": "cNWpEstiZ6t9",
        "outputId": "9c18f8e9-ba3b-43d6-aee2-637e7b5f9624"
      },
      "execution_count": 2,
      "outputs": [
        {
          "output_type": "stream",
          "name": "stdout",
          "text": [
            "/bin/bash: line 1: nvidia-smi: command not found\n"
          ]
        }
      ]
    },
    {
      "cell_type": "code",
      "execution_count": 3,
      "metadata": {
        "colab": {
          "base_uri": "https://localhost:8080/"
        },
        "id": "LOG_8SKkZsIX",
        "outputId": "43ddcaae-4040-41ec-f476-2ea22dcfbca0"
      },
      "outputs": [
        {
          "output_type": "stream",
          "name": "stdout",
          "text": [
            "2.8.0+cu126\n"
          ]
        }
      ],
      "source": [
        "import torch\n",
        "import pandas as pd\n",
        "import numpy as np\n",
        "import matplotlib.pyplot as plt\n",
        "\n",
        "print(torch.__version__)"
      ]
    },
    {
      "cell_type": "code",
      "source": [
        "#scaler\n",
        "scaler = torch.tensor(7)\n",
        "scaler"
      ],
      "metadata": {
        "colab": {
          "base_uri": "https://localhost:8080/"
        },
        "id": "duiyL02YaC2r",
        "outputId": "4e2b0627-2663-42ce-d226-122d0b63a173"
      },
      "execution_count": 4,
      "outputs": [
        {
          "output_type": "execute_result",
          "data": {
            "text/plain": [
              "tensor(7)"
            ]
          },
          "metadata": {},
          "execution_count": 4
        }
      ]
    },
    {
      "cell_type": "code",
      "source": [
        "scaler.ndim"
      ],
      "metadata": {
        "colab": {
          "base_uri": "https://localhost:8080/"
        },
        "id": "GKupSQOfaZbF",
        "outputId": "09ee36c5-7404-4323-fb41-9f525f6fc55e"
      },
      "execution_count": 5,
      "outputs": [
        {
          "output_type": "execute_result",
          "data": {
            "text/plain": [
              "0"
            ]
          },
          "metadata": {},
          "execution_count": 5
        }
      ]
    },
    {
      "cell_type": "code",
      "source": [
        "scaler.item()"
      ],
      "metadata": {
        "colab": {
          "base_uri": "https://localhost:8080/"
        },
        "id": "PgIjjrTAakDP",
        "outputId": "3fccf268-d316-4e95-fa46-b2d7eb5d9bba"
      },
      "execution_count": 6,
      "outputs": [
        {
          "output_type": "execute_result",
          "data": {
            "text/plain": [
              "7"
            ]
          },
          "metadata": {},
          "execution_count": 6
        }
      ]
    },
    {
      "cell_type": "code",
      "source": [
        "vector = torch.tensor([1,4])\n",
        "vector"
      ],
      "metadata": {
        "colab": {
          "base_uri": "https://localhost:8080/"
        },
        "id": "GosI9g0jam3o",
        "outputId": "b5254da9-10e7-4062-ecfa-103a25dbaa44"
      },
      "execution_count": 7,
      "outputs": [
        {
          "output_type": "execute_result",
          "data": {
            "text/plain": [
              "tensor([1, 4])"
            ]
          },
          "metadata": {},
          "execution_count": 7
        }
      ]
    },
    {
      "cell_type": "code",
      "source": [
        "vector.ndim"
      ],
      "metadata": {
        "colab": {
          "base_uri": "https://localhost:8080/"
        },
        "id": "Yxj39_lzar8d",
        "outputId": "86024b30-da85-4189-b082-6af86d01e0ab"
      },
      "execution_count": 8,
      "outputs": [
        {
          "output_type": "execute_result",
          "data": {
            "text/plain": [
              "1"
            ]
          },
          "metadata": {},
          "execution_count": 8
        }
      ]
    },
    {
      "cell_type": "code",
      "source": [
        "vector.shape"
      ],
      "metadata": {
        "colab": {
          "base_uri": "https://localhost:8080/"
        },
        "id": "ywYhEZQeawWs",
        "outputId": "2e179038-0313-4289-e9c6-96f7db90f4ae"
      },
      "execution_count": 9,
      "outputs": [
        {
          "output_type": "execute_result",
          "data": {
            "text/plain": [
              "torch.Size([2])"
            ]
          },
          "metadata": {},
          "execution_count": 9
        }
      ]
    },
    {
      "cell_type": "code",
      "source": [
        "matrix = torch.tensor([[1,4], [2,5]])\n",
        "matrix"
      ],
      "metadata": {
        "colab": {
          "base_uri": "https://localhost:8080/"
        },
        "id": "D_RWD6K1ayEY",
        "outputId": "340707f4-18e1-4191-d9d0-11368c4f994b"
      },
      "execution_count": 10,
      "outputs": [
        {
          "output_type": "execute_result",
          "data": {
            "text/plain": [
              "tensor([[1, 4],\n",
              "        [2, 5]])"
            ]
          },
          "metadata": {},
          "execution_count": 10
        }
      ]
    },
    {
      "cell_type": "code",
      "source": [
        "matrix.ndim"
      ],
      "metadata": {
        "colab": {
          "base_uri": "https://localhost:8080/"
        },
        "id": "qzTy3YgDa_UU",
        "outputId": "30d1a9db-dadf-4973-eeed-ab8cfb508b26"
      },
      "execution_count": 11,
      "outputs": [
        {
          "output_type": "execute_result",
          "data": {
            "text/plain": [
              "2"
            ]
          },
          "metadata": {},
          "execution_count": 11
        }
      ]
    },
    {
      "cell_type": "code",
      "source": [
        "matrix.shape"
      ],
      "metadata": {
        "colab": {
          "base_uri": "https://localhost:8080/"
        },
        "id": "xU2KTX3ebC0t",
        "outputId": "77653b23-faf5-4e3c-ddb7-0af65993c871"
      },
      "execution_count": 12,
      "outputs": [
        {
          "output_type": "execute_result",
          "data": {
            "text/plain": [
              "torch.Size([2, 2])"
            ]
          },
          "metadata": {},
          "execution_count": 12
        }
      ]
    },
    {
      "cell_type": "code",
      "source": [
        "matrix[1]"
      ],
      "metadata": {
        "colab": {
          "base_uri": "https://localhost:8080/"
        },
        "id": "qjax-sc2bGg3",
        "outputId": "43a28696-5331-4e51-ba4c-fda669ddecad"
      },
      "execution_count": 13,
      "outputs": [
        {
          "output_type": "execute_result",
          "data": {
            "text/plain": [
              "tensor([2, 5])"
            ]
          },
          "metadata": {},
          "execution_count": 13
        }
      ]
    },
    {
      "cell_type": "code",
      "source": [
        "tensor = torch.tensor([[[1,2,3],[4,5,6]]])\n",
        "tensor"
      ],
      "metadata": {
        "colab": {
          "base_uri": "https://localhost:8080/"
        },
        "id": "O47AAOT4bKug",
        "outputId": "9484dec4-ccf9-4d7a-dd32-ccd305d84281"
      },
      "execution_count": 14,
      "outputs": [
        {
          "output_type": "execute_result",
          "data": {
            "text/plain": [
              "tensor([[[1, 2, 3],\n",
              "         [4, 5, 6]]])"
            ]
          },
          "metadata": {},
          "execution_count": 14
        }
      ]
    },
    {
      "cell_type": "code",
      "source": [
        "tensor.ndim"
      ],
      "metadata": {
        "colab": {
          "base_uri": "https://localhost:8080/"
        },
        "id": "kvDpakvlbV3t",
        "outputId": "9a85ef44-e222-4c28-b791-ec64c5f392f7"
      },
      "execution_count": 15,
      "outputs": [
        {
          "output_type": "execute_result",
          "data": {
            "text/plain": [
              "3"
            ]
          },
          "metadata": {},
          "execution_count": 15
        }
      ]
    },
    {
      "cell_type": "code",
      "source": [
        "tensor.shape"
      ],
      "metadata": {
        "colab": {
          "base_uri": "https://localhost:8080/"
        },
        "id": "aqZ3isQ9bj_g",
        "outputId": "3732f70a-2b75-46c8-dc88-cc056a28f9a1"
      },
      "execution_count": 16,
      "outputs": [
        {
          "output_type": "execute_result",
          "data": {
            "text/plain": [
              "torch.Size([1, 2, 3])"
            ]
          },
          "metadata": {},
          "execution_count": 16
        }
      ]
    },
    {
      "cell_type": "code",
      "source": [
        "tensor[0][1][2].item()"
      ],
      "metadata": {
        "colab": {
          "base_uri": "https://localhost:8080/"
        },
        "id": "obwLAed6boL1",
        "outputId": "7faf850d-ad11-4e22-9711-16c7a50ad78e"
      },
      "execution_count": 17,
      "outputs": [
        {
          "output_type": "execute_result",
          "data": {
            "text/plain": [
              "6"
            ]
          },
          "metadata": {},
          "execution_count": 17
        }
      ]
    },
    {
      "cell_type": "code",
      "source": [
        "# Creating Random Tensors of size (3, 4)\n",
        "random_tensor = torch.rand(3,3,5)\n",
        "random_tensor\n"
      ],
      "metadata": {
        "colab": {
          "base_uri": "https://localhost:8080/"
        },
        "id": "RyajVlnpcHOr",
        "outputId": "2480ddc9-a419-4839-88bd-730f729b56de"
      },
      "execution_count": 18,
      "outputs": [
        {
          "output_type": "execute_result",
          "data": {
            "text/plain": [
              "tensor([[[0.8090, 0.3824, 0.8276, 0.7001, 0.8252],\n",
              "         [0.8029, 0.3393, 0.0793, 0.7262, 0.2023],\n",
              "         [0.5474, 0.6114, 0.5298, 0.4988, 0.7395]],\n",
              "\n",
              "        [[0.1619, 0.8034, 0.7555, 0.5781, 0.6464],\n",
              "         [0.9653, 0.8444, 0.1594, 0.2712, 0.5659],\n",
              "         [0.1655, 0.0408, 0.3639, 0.5105, 0.9733]],\n",
              "\n",
              "        [[0.4396, 0.0046, 0.3969, 0.7408, 0.6744],\n",
              "         [0.0266, 0.1445, 0.7428, 0.3780, 0.5255],\n",
              "         [0.1635, 0.9301, 0.3990, 0.1812, 0.7813]]])"
            ]
          },
          "metadata": {},
          "execution_count": 18
        }
      ]
    },
    {
      "cell_type": "code",
      "source": [
        "random_image_size_tensor = torch.rand(3,224,224)"
      ],
      "metadata": {
        "id": "lES2886_ddAZ"
      },
      "execution_count": 19,
      "outputs": []
    },
    {
      "cell_type": "code",
      "source": [
        "random_image_size_tensor"
      ],
      "metadata": {
        "colab": {
          "base_uri": "https://localhost:8080/"
        },
        "id": "QGea8s7uetyi",
        "outputId": "e12e46cd-171b-4ffb-ebae-48c3ebd0493e"
      },
      "execution_count": 20,
      "outputs": [
        {
          "output_type": "execute_result",
          "data": {
            "text/plain": [
              "tensor([[[0.0307, 0.3622, 0.5754,  ..., 0.3622, 0.3515, 0.3574],\n",
              "         [0.3018, 0.4151, 0.9478,  ..., 0.7618, 0.6407, 0.5385],\n",
              "         [0.7265, 0.7587, 0.3878,  ..., 0.6597, 0.1604, 0.5351],\n",
              "         ...,\n",
              "         [0.2185, 0.9631, 0.0639,  ..., 0.7043, 0.5222, 0.5329],\n",
              "         [0.9005, 0.5145, 0.5604,  ..., 0.7101, 0.5763, 0.9740],\n",
              "         [0.7618, 0.6759, 0.1679,  ..., 0.8919, 0.6985, 0.8160]],\n",
              "\n",
              "        [[0.0494, 0.0476, 0.8848,  ..., 0.2275, 0.5557, 0.9704],\n",
              "         [0.5526, 0.8303, 0.3031,  ..., 0.2025, 0.3873, 0.6596],\n",
              "         [0.5956, 0.6995, 0.2246,  ..., 0.4769, 0.1905, 0.7405],\n",
              "         ...,\n",
              "         [0.9867, 0.6099, 0.2953,  ..., 0.1296, 0.3308, 0.5436],\n",
              "         [0.5820, 0.8755, 0.9290,  ..., 0.4271, 0.1841, 0.2996],\n",
              "         [0.6206, 0.0473, 0.9402,  ..., 0.5364, 0.2903, 0.2772]],\n",
              "\n",
              "        [[0.2179, 0.9885, 0.3659,  ..., 0.6469, 0.3477, 0.1618],\n",
              "         [0.1800, 0.0201, 0.7522,  ..., 0.1955, 0.4047, 0.6697],\n",
              "         [0.2911, 0.1458, 0.7522,  ..., 0.3424, 0.2726, 0.4254],\n",
              "         ...,\n",
              "         [0.8250, 0.7912, 0.7193,  ..., 0.4096, 0.3316, 0.4861],\n",
              "         [0.3617, 0.9340, 0.0930,  ..., 0.6220, 0.9258, 0.3128],\n",
              "         [0.2055, 0.9923, 0.3096,  ..., 0.6660, 0.7926, 0.5972]]])"
            ]
          },
          "metadata": {},
          "execution_count": 20
        }
      ]
    },
    {
      "cell_type": "code",
      "source": [
        "random_image_size_tensor.ndim"
      ],
      "metadata": {
        "colab": {
          "base_uri": "https://localhost:8080/"
        },
        "id": "TS-R3qhXeumY",
        "outputId": "e81e3213-b282-4bba-ab6d-dbf742ca7b05"
      },
      "execution_count": 21,
      "outputs": [
        {
          "output_type": "execute_result",
          "data": {
            "text/plain": [
              "3"
            ]
          },
          "metadata": {},
          "execution_count": 21
        }
      ]
    },
    {
      "cell_type": "code",
      "source": [
        "random_image_size_tensor.shape"
      ],
      "metadata": {
        "colab": {
          "base_uri": "https://localhost:8080/"
        },
        "id": "YgoaLTdVe0ek",
        "outputId": "33bb6bd8-eca3-4901-d6df-e3cdbf4fd579"
      },
      "execution_count": 22,
      "outputs": [
        {
          "output_type": "execute_result",
          "data": {
            "text/plain": [
              "torch.Size([3, 224, 224])"
            ]
          },
          "metadata": {},
          "execution_count": 22
        }
      ]
    },
    {
      "cell_type": "code",
      "source": [],
      "metadata": {
        "id": "uMX6xJ8Fe3gH"
      },
      "execution_count": 22,
      "outputs": []
    },
    {
      "cell_type": "markdown",
      "source": [
        "#Zeros and ones"
      ],
      "metadata": {
        "id": "jc0NG6xvfc8D"
      }
    },
    {
      "cell_type": "code",
      "source": [
        "zeros = torch.zeros(size = (3,6))\n",
        "zeros"
      ],
      "metadata": {
        "colab": {
          "base_uri": "https://localhost:8080/"
        },
        "id": "6B5sdvkzfZCB",
        "outputId": "11658005-cf7e-4dee-a02c-0aabbb8c4ed8"
      },
      "execution_count": 23,
      "outputs": [
        {
          "output_type": "execute_result",
          "data": {
            "text/plain": [
              "tensor([[0., 0., 0., 0., 0., 0.],\n",
              "        [0., 0., 0., 0., 0., 0.],\n",
              "        [0., 0., 0., 0., 0., 0.]])"
            ]
          },
          "metadata": {},
          "execution_count": 23
        }
      ]
    },
    {
      "cell_type": "code",
      "source": [
        "ones = torch.ones(size=(2,5))"
      ],
      "metadata": {
        "id": "T_4g2Pt9f3VV"
      },
      "execution_count": 24,
      "outputs": []
    },
    {
      "cell_type": "code",
      "source": [
        "ones"
      ],
      "metadata": {
        "colab": {
          "base_uri": "https://localhost:8080/"
        },
        "id": "bu9h_q3pgRH6",
        "outputId": "fdac5ba0-c5f7-4e8a-997d-f74502f27926"
      },
      "execution_count": 25,
      "outputs": [
        {
          "output_type": "execute_result",
          "data": {
            "text/plain": [
              "tensor([[1., 1., 1., 1., 1.],\n",
              "        [1., 1., 1., 1., 1.]])"
            ]
          },
          "metadata": {},
          "execution_count": 25
        }
      ]
    },
    {
      "cell_type": "code",
      "source": [
        "ones.dtype"
      ],
      "metadata": {
        "colab": {
          "base_uri": "https://localhost:8080/"
        },
        "id": "qFcZOzZUgR0V",
        "outputId": "db0819ab-321f-4284-c9bb-6ec4b9c23eff"
      },
      "execution_count": 26,
      "outputs": [
        {
          "output_type": "execute_result",
          "data": {
            "text/plain": [
              "torch.float32"
            ]
          },
          "metadata": {},
          "execution_count": 26
        }
      ]
    },
    {
      "cell_type": "code",
      "source": [
        "zeros.dtype"
      ],
      "metadata": {
        "colab": {
          "base_uri": "https://localhost:8080/"
        },
        "id": "eFRHpRiSgeqP",
        "outputId": "83b2ce47-c356-44d8-f6ff-17e7fa0c9304"
      },
      "execution_count": 27,
      "outputs": [
        {
          "output_type": "execute_result",
          "data": {
            "text/plain": [
              "torch.float32"
            ]
          },
          "metadata": {},
          "execution_count": 27
        }
      ]
    },
    {
      "cell_type": "code",
      "source": [
        "tensor.dtype"
      ],
      "metadata": {
        "colab": {
          "base_uri": "https://localhost:8080/"
        },
        "id": "JBJqmJtvgf8p",
        "outputId": "fcfb3ad2-3085-48cc-8a66-29cb79f4c8e3"
      },
      "execution_count": 28,
      "outputs": [
        {
          "output_type": "execute_result",
          "data": {
            "text/plain": [
              "torch.int64"
            ]
          },
          "metadata": {},
          "execution_count": 28
        }
      ]
    },
    {
      "cell_type": "code",
      "source": [
        "zeros_3 = torch.zeros(size = (2,3,3))\n",
        "zeros_3"
      ],
      "metadata": {
        "colab": {
          "base_uri": "https://localhost:8080/"
        },
        "id": "QXYlVa6sgjdw",
        "outputId": "2e6a33b9-d366-45d1-ae88-e1bcb1dcba69"
      },
      "execution_count": 29,
      "outputs": [
        {
          "output_type": "execute_result",
          "data": {
            "text/plain": [
              "tensor([[[0., 0., 0.],\n",
              "         [0., 0., 0.],\n",
              "         [0., 0., 0.]],\n",
              "\n",
              "        [[0., 0., 0.],\n",
              "         [0., 0., 0.],\n",
              "         [0., 0., 0.]]])"
            ]
          },
          "metadata": {},
          "execution_count": 29
        }
      ]
    },
    {
      "cell_type": "code",
      "source": [
        "#creating a range of tensrs and tensos-like"
      ],
      "metadata": {
        "id": "rKunEljahTNz"
      },
      "execution_count": 30,
      "outputs": []
    },
    {
      "cell_type": "code",
      "source": [
        "# torch.range(1,10)\n",
        "torch.arange(1,10)"
      ],
      "metadata": {
        "colab": {
          "base_uri": "https://localhost:8080/"
        },
        "id": "AXLc65S_hoPc",
        "outputId": "da24be97-a29a-4985-bf96-2345bfc988b4"
      },
      "execution_count": 31,
      "outputs": [
        {
          "output_type": "execute_result",
          "data": {
            "text/plain": [
              "tensor([1, 2, 3, 4, 5, 6, 7, 8, 9])"
            ]
          },
          "metadata": {},
          "execution_count": 31
        }
      ]
    },
    {
      "cell_type": "code",
      "source": [
        "one_to_100 = torch.arange(start=0,end=100,step=6)\n",
        "one_to_100"
      ],
      "metadata": {
        "colab": {
          "base_uri": "https://localhost:8080/"
        },
        "id": "8eOyEFJzh7Ym",
        "outputId": "cd17b595-cf73-4865-e326-44762385b711"
      },
      "execution_count": 32,
      "outputs": [
        {
          "output_type": "execute_result",
          "data": {
            "text/plain": [
              "tensor([ 0,  6, 12, 18, 24, 30, 36, 42, 48, 54, 60, 66, 72, 78, 84, 90, 96])"
            ]
          },
          "metadata": {},
          "execution_count": 32
        }
      ]
    },
    {
      "cell_type": "code",
      "source": [
        "#creating tensors like"
      ],
      "metadata": {
        "id": "uRO7Flp0ieeN"
      },
      "execution_count": 33,
      "outputs": []
    },
    {
      "cell_type": "code",
      "source": [
        "ten_zeros = torch.zeros_like(input=one_to_100)\n",
        "ten_zeros"
      ],
      "metadata": {
        "colab": {
          "base_uri": "https://localhost:8080/"
        },
        "id": "zD8FGA8EitDf",
        "outputId": "417667b1-8730-4feb-8520-60bd14a73483"
      },
      "execution_count": 34,
      "outputs": [
        {
          "output_type": "execute_result",
          "data": {
            "text/plain": [
              "tensor([0, 0, 0, 0, 0, 0, 0, 0, 0, 0, 0, 0, 0, 0, 0, 0, 0])"
            ]
          },
          "metadata": {},
          "execution_count": 34
        }
      ]
    },
    {
      "cell_type": "code",
      "source": [
        "float_32_tensor = torch.tensor([1.,2.,3.], dtype=None, device='cpu', requires_grad=False)"
      ],
      "metadata": {
        "id": "9_F9siyWlJRe"
      },
      "execution_count": 35,
      "outputs": []
    },
    {
      "cell_type": "code",
      "source": [
        "float_32_tensor.dtype"
      ],
      "metadata": {
        "colab": {
          "base_uri": "https://localhost:8080/"
        },
        "id": "seqmvA80rksl",
        "outputId": "eda98d14-8f52-49e4-828b-56e2aedd9616"
      },
      "execution_count": 36,
      "outputs": [
        {
          "output_type": "execute_result",
          "data": {
            "text/plain": [
              "torch.float32"
            ]
          },
          "metadata": {},
          "execution_count": 36
        }
      ]
    },
    {
      "cell_type": "code",
      "source": [
        "# float_16_tensor = float_32_tensor.type(torch.float16)\n",
        "float_16_tensor = float_32_tensor.type(torch.half)\n",
        "float_16_tensor"
      ],
      "metadata": {
        "colab": {
          "base_uri": "https://localhost:8080/"
        },
        "id": "8eNBCfkaroPf",
        "outputId": "2a5614b4-e146-430d-d19b-049413c39030"
      },
      "execution_count": 37,
      "outputs": [
        {
          "output_type": "execute_result",
          "data": {
            "text/plain": [
              "tensor([1., 2., 3.], dtype=torch.float16)"
            ]
          },
          "metadata": {},
          "execution_count": 37
        }
      ]
    },
    {
      "cell_type": "code",
      "source": [
        "multiply = float_32_tensor * float_16_tensor\n",
        "multiply"
      ],
      "metadata": {
        "colab": {
          "base_uri": "https://localhost:8080/"
        },
        "id": "VIWKBD2xrzL_",
        "outputId": "772f443f-5701-4bfa-d053-a379defc6fb2"
      },
      "execution_count": 38,
      "outputs": [
        {
          "output_type": "execute_result",
          "data": {
            "text/plain": [
              "tensor([1., 4., 9.])"
            ]
          },
          "metadata": {},
          "execution_count": 38
        }
      ]
    },
    {
      "cell_type": "code",
      "source": [
        "some_tensor = torch.rand(size=(3,2), dtype=torch.half)\n",
        "# torch.randint(low=0, high=100, size=(3,6), dtype=torch.long)\n",
        "some_tensor"
      ],
      "metadata": {
        "colab": {
          "base_uri": "https://localhost:8080/"
        },
        "id": "nEmhDRXWsBC-",
        "outputId": "b4046b76-fd2e-4283-896a-5202f0316c68"
      },
      "execution_count": 39,
      "outputs": [
        {
          "output_type": "execute_result",
          "data": {
            "text/plain": [
              "tensor([[0.2275, 0.7290],\n",
              "        [0.5005, 0.0381],\n",
              "        [0.0503, 0.9561]], dtype=torch.float16)"
            ]
          },
          "metadata": {},
          "execution_count": 39
        }
      ]
    },
    {
      "cell_type": "code",
      "source": [
        "print(f\"Datatype of created tensor: {some_tensor.dtype}\")\n",
        "print(f\"Shape of created tensor: {some_tensor.shape}\")\n",
        "print(f\"Device on which tensor is created: {some_tensor.device}\")"
      ],
      "metadata": {
        "colab": {
          "base_uri": "https://localhost:8080/"
        },
        "id": "4QqHicPHumsR",
        "outputId": "b213b044-d476-4798-c6a4-5226242220c1"
      },
      "execution_count": 40,
      "outputs": [
        {
          "output_type": "stream",
          "name": "stdout",
          "text": [
            "Datatype of created tensor: torch.float16\n",
            "Shape of created tensor: torch.Size([3, 2])\n",
            "Device on which tensor is created: cpu\n"
          ]
        }
      ]
    },
    {
      "cell_type": "code",
      "source": [
        "tens = torch.tensor([4,6,8])\n",
        "tens"
      ],
      "metadata": {
        "colab": {
          "base_uri": "https://localhost:8080/"
        },
        "id": "pxkq3Vh8u87b",
        "outputId": "30df7848-717d-4700-a095-f4ac57ec8ce5"
      },
      "execution_count": 41,
      "outputs": [
        {
          "output_type": "execute_result",
          "data": {
            "text/plain": [
              "tensor([4, 6, 8])"
            ]
          },
          "metadata": {},
          "execution_count": 41
        }
      ]
    },
    {
      "cell_type": "code",
      "source": [
        "tens+10"
      ],
      "metadata": {
        "colab": {
          "base_uri": "https://localhost:8080/"
        },
        "id": "1N5_EoHDx0fB",
        "outputId": "7f9b47f7-71b0-40e4-8a65-c328b440c9c9"
      },
      "execution_count": 42,
      "outputs": [
        {
          "output_type": "execute_result",
          "data": {
            "text/plain": [
              "tensor([14, 16, 18])"
            ]
          },
          "metadata": {},
          "execution_count": 42
        }
      ]
    },
    {
      "cell_type": "code",
      "source": [
        "tens*10"
      ],
      "metadata": {
        "colab": {
          "base_uri": "https://localhost:8080/"
        },
        "id": "GspnvmMHx1dw",
        "outputId": "e0c8f357-eb33-47c4-8b6e-8610de8f762c"
      },
      "execution_count": 43,
      "outputs": [
        {
          "output_type": "execute_result",
          "data": {
            "text/plain": [
              "tensor([40, 60, 80])"
            ]
          },
          "metadata": {},
          "execution_count": 43
        }
      ]
    },
    {
      "cell_type": "code",
      "source": [
        "tens-10"
      ],
      "metadata": {
        "colab": {
          "base_uri": "https://localhost:8080/"
        },
        "id": "CwigNo9Wx5zf",
        "outputId": "76eaf380-d841-4496-814c-035e5f6ed6f1"
      },
      "execution_count": 44,
      "outputs": [
        {
          "output_type": "execute_result",
          "data": {
            "text/plain": [
              "tensor([-6, -4, -2])"
            ]
          },
          "metadata": {},
          "execution_count": 44
        }
      ]
    },
    {
      "cell_type": "code",
      "source": [
        "torch.mul(tens,10)"
      ],
      "metadata": {
        "colab": {
          "base_uri": "https://localhost:8080/"
        },
        "id": "4Q2r0uLex6jw",
        "outputId": "c41b8126-754b-49cb-8502-9addf7673852"
      },
      "execution_count": 45,
      "outputs": [
        {
          "output_type": "execute_result",
          "data": {
            "text/plain": [
              "tensor([40, 60, 80])"
            ]
          },
          "metadata": {},
          "execution_count": 45
        }
      ]
    },
    {
      "cell_type": "code",
      "source": [
        "torch.add(tens,90)"
      ],
      "metadata": {
        "colab": {
          "base_uri": "https://localhost:8080/"
        },
        "id": "3U_r7BV7x88c",
        "outputId": "f68e120d-3751-49e1-fe63-9312e655e49c"
      },
      "execution_count": 46,
      "outputs": [
        {
          "output_type": "execute_result",
          "data": {
            "text/plain": [
              "tensor([94, 96, 98])"
            ]
          },
          "metadata": {},
          "execution_count": 46
        }
      ]
    },
    {
      "cell_type": "code",
      "source": [
        "torch.sub(tens,4)"
      ],
      "metadata": {
        "colab": {
          "base_uri": "https://localhost:8080/"
        },
        "id": "tA4eY5hgx_GB",
        "outputId": "49c5e502-0bf5-4b14-f3cc-3f7d15967076"
      },
      "execution_count": 47,
      "outputs": [
        {
          "output_type": "execute_result",
          "data": {
            "text/plain": [
              "tensor([0, 2, 4])"
            ]
          },
          "metadata": {},
          "execution_count": 47
        }
      ]
    },
    {
      "cell_type": "code",
      "source": [
        "tens/10"
      ],
      "metadata": {
        "colab": {
          "base_uri": "https://localhost:8080/"
        },
        "id": "ofo5iujRyBi8",
        "outputId": "94e0e178-8ec8-4c36-870a-18907dd3b9b4"
      },
      "execution_count": 48,
      "outputs": [
        {
          "output_type": "execute_result",
          "data": {
            "text/plain": [
              "tensor([0.4000, 0.6000, 0.8000])"
            ]
          },
          "metadata": {},
          "execution_count": 48
        }
      ]
    },
    {
      "cell_type": "code",
      "source": [
        "# Matrix Multiplication"
      ],
      "metadata": {
        "id": "xlygej1KyDtZ"
      },
      "execution_count": 49,
      "outputs": []
    },
    {
      "cell_type": "code",
      "source": [
        "tens"
      ],
      "metadata": {
        "colab": {
          "base_uri": "https://localhost:8080/"
        },
        "id": "DTemp9bh14Lz",
        "outputId": "6ee46249-2bc9-402a-db49-6d7f0d5b5ee5"
      },
      "execution_count": 50,
      "outputs": [
        {
          "output_type": "execute_result",
          "data": {
            "text/plain": [
              "tensor([4, 6, 8])"
            ]
          },
          "metadata": {},
          "execution_count": 50
        }
      ]
    },
    {
      "cell_type": "code",
      "source": [
        "tensor1 = torch.tensor([[3,4,5,9], [9,8,7,4], [4,5,8,9]])\n",
        "tensor2 = torch.tensor([[4,5,0],[6,7,9],[8,9,8],[9,5,2]])\n",
        "\n",
        "print(tensor1.shape)\n",
        "print(tensor2.shape)\n"
      ],
      "metadata": {
        "colab": {
          "base_uri": "https://localhost:8080/"
        },
        "id": "pgn7pK0R2Wbm",
        "outputId": "ee996fd4-0697-4875-b87d-f721a3af886b"
      },
      "execution_count": 51,
      "outputs": [
        {
          "output_type": "stream",
          "name": "stdout",
          "text": [
            "torch.Size([3, 4])\n",
            "torch.Size([4, 3])\n"
          ]
        }
      ]
    },
    {
      "cell_type": "code",
      "source": [
        "%%time\n",
        "torch.matmul(tensor1, tensor2)"
      ],
      "metadata": {
        "colab": {
          "base_uri": "https://localhost:8080/"
        },
        "id": "J802FggQ15oR",
        "outputId": "fb70f49c-87de-485a-b3da-9ffad7914fa1"
      },
      "execution_count": 52,
      "outputs": [
        {
          "output_type": "stream",
          "name": "stdout",
          "text": [
            "CPU times: user 602 µs, sys: 938 µs, total: 1.54 ms\n",
            "Wall time: 10.3 ms\n"
          ]
        },
        {
          "output_type": "execute_result",
          "data": {
            "text/plain": [
              "tensor([[157, 133,  94],\n",
              "        [176, 184, 136],\n",
              "        [191, 172, 127]])"
            ]
          },
          "metadata": {},
          "execution_count": 52
        }
      ]
    },
    {
      "cell_type": "code",
      "source": [
        "# %%time\n",
        "# value = 0\n",
        "# for i in range(len(tens)):\n",
        "#   for j in range(len(tens[i])):\n",
        "#     value += tens[i][j] * tens[i][j]\n",
        "# value"
      ],
      "metadata": {
        "id": "Bgxuygat189q"
      },
      "execution_count": 53,
      "outputs": []
    },
    {
      "cell_type": "code",
      "source": [
        "# @ can be used in place of matmul.\n",
        "torch.rand(2,120) @ torch.rand(120,2)"
      ],
      "metadata": {
        "colab": {
          "base_uri": "https://localhost:8080/"
        },
        "id": "fLxWGVG62Jgv",
        "outputId": "ce927036-6fb6-49a3-a477-6c50856a6bbe"
      },
      "execution_count": 54,
      "outputs": [
        {
          "output_type": "execute_result",
          "data": {
            "text/plain": [
              "tensor([[28.1104, 28.9661],\n",
              "        [31.5450, 31.8529]])"
            ]
          },
          "metadata": {},
          "execution_count": 54
        }
      ]
    },
    {
      "cell_type": "code",
      "source": [
        "tensor1 @ tensor2"
      ],
      "metadata": {
        "colab": {
          "base_uri": "https://localhost:8080/"
        },
        "id": "mwf9LOlt5Ova",
        "outputId": "fdd83ecc-d3af-45e5-ea95-ee8391159a8f"
      },
      "execution_count": 55,
      "outputs": [
        {
          "output_type": "execute_result",
          "data": {
            "text/plain": [
              "tensor([[157, 133,  94],\n",
              "        [176, 184, 136],\n",
              "        [191, 172, 127]])"
            ]
          },
          "metadata": {},
          "execution_count": 55
        }
      ]
    },
    {
      "cell_type": "code",
      "source": [
        "tensor1 @ tensor1.T"
      ],
      "metadata": {
        "colab": {
          "base_uri": "https://localhost:8080/"
        },
        "id": "z_ygv5Jf5dh4",
        "outputId": "957b0575-9aab-4dbc-a18c-42c0b9cee004"
      },
      "execution_count": 56,
      "outputs": [
        {
          "output_type": "execute_result",
          "data": {
            "text/plain": [
              "tensor([[131, 130, 153],\n",
              "        [130, 210, 168],\n",
              "        [153, 168, 186]])"
            ]
          },
          "metadata": {},
          "execution_count": 56
        }
      ]
    },
    {
      "cell_type": "code",
      "source": [
        "# min, max, mean, sum"
      ],
      "metadata": {
        "id": "1knFuWK7Zo6A"
      },
      "execution_count": 57,
      "outputs": []
    },
    {
      "cell_type": "code",
      "source": [
        "print(torch.min(tensor1))\n",
        "print(tensor1.min())"
      ],
      "metadata": {
        "colab": {
          "base_uri": "https://localhost:8080/"
        },
        "id": "Huy6q8lYZ_6i",
        "outputId": "5ac0557f-5ff3-42cd-e42a-a15c4d012993"
      },
      "execution_count": 58,
      "outputs": [
        {
          "output_type": "stream",
          "name": "stdout",
          "text": [
            "tensor(3)\n",
            "tensor(3)\n"
          ]
        }
      ]
    },
    {
      "cell_type": "code",
      "source": [
        "print(torch.max(tensor1))\n",
        "print(tensor1.max())"
      ],
      "metadata": {
        "colab": {
          "base_uri": "https://localhost:8080/"
        },
        "id": "gRMOaHUOaCk4",
        "outputId": "f087a221-5c1c-413e-f74e-c9ac62e38565"
      },
      "execution_count": 59,
      "outputs": [
        {
          "output_type": "stream",
          "name": "stdout",
          "text": [
            "tensor(9)\n",
            "tensor(9)\n"
          ]
        }
      ]
    },
    {
      "cell_type": "code",
      "source": [
        "print(torch.mean(tensor1.type(torch.float16)))\n",
        "print(tensor1.type(torch.half).mean())"
      ],
      "metadata": {
        "colab": {
          "base_uri": "https://localhost:8080/"
        },
        "id": "_MKHhHM6aOEN",
        "outputId": "164f4720-cc66-45d6-ae57-fe44c78a11a6"
      },
      "execution_count": 60,
      "outputs": [
        {
          "output_type": "stream",
          "name": "stdout",
          "text": [
            "tensor(6.2500, dtype=torch.float16)\n",
            "tensor(6.2500, dtype=torch.float16)\n"
          ]
        }
      ]
    },
    {
      "cell_type": "code",
      "source": [
        "print(torch.sum(tensor1))\n",
        "print(tensor1.sum())"
      ],
      "metadata": {
        "colab": {
          "base_uri": "https://localhost:8080/"
        },
        "id": "ZnWus7b8aRmB",
        "outputId": "f8db20c8-bb2a-442a-d351-870bfc44bd12"
      },
      "execution_count": 61,
      "outputs": [
        {
          "output_type": "stream",
          "name": "stdout",
          "text": [
            "tensor(75)\n",
            "tensor(75)\n"
          ]
        }
      ]
    },
    {
      "cell_type": "code",
      "source": [
        "print(tensor1)\n",
        "print(tensor1.shape)\n",
        "tensor1_reshaped = tensor1.reshape(12,1)\n",
        "print(tensor1_reshaped)\n",
        "tensor1_squeezed = tensor1_reshaped.squeeze()\n",
        "print(tensor1_squeezed)\n",
        "print(tensor1_squeezed.shape)\n",
        "min_ind = tensor1_squeezed.argmin()\n",
        "print(tensor1_squeezed[min_ind])\n",
        "max_ind = tensor1_squeezed.argmax()\n",
        "print(tensor1_squeezed[max_ind])"
      ],
      "metadata": {
        "colab": {
          "base_uri": "https://localhost:8080/"
        },
        "id": "7D1uSbQ6adY_",
        "outputId": "a4b97372-5a73-4e19-b7ed-cba8f6a6e510"
      },
      "execution_count": 62,
      "outputs": [
        {
          "output_type": "stream",
          "name": "stdout",
          "text": [
            "tensor([[3, 4, 5, 9],\n",
            "        [9, 8, 7, 4],\n",
            "        [4, 5, 8, 9]])\n",
            "torch.Size([3, 4])\n",
            "tensor([[3],\n",
            "        [4],\n",
            "        [5],\n",
            "        [9],\n",
            "        [9],\n",
            "        [8],\n",
            "        [7],\n",
            "        [4],\n",
            "        [4],\n",
            "        [5],\n",
            "        [8],\n",
            "        [9]])\n",
            "tensor([3, 4, 5, 9, 9, 8, 7, 4, 4, 5, 8, 9])\n",
            "torch.Size([12])\n",
            "tensor(3)\n",
            "tensor(9)\n"
          ]
        }
      ]
    },
    {
      "cell_type": "code",
      "source": [
        "tensor_view = tensor1.view((4,3))\n",
        "tensor_view"
      ],
      "metadata": {
        "colab": {
          "base_uri": "https://localhost:8080/"
        },
        "id": "pEvm2HFWatQn",
        "outputId": "de1fde7b-f707-4310-86dd-3548b1e7a861"
      },
      "execution_count": 63,
      "outputs": [
        {
          "output_type": "execute_result",
          "data": {
            "text/plain": [
              "tensor([[3, 4, 5],\n",
              "        [9, 9, 8],\n",
              "        [7, 4, 4],\n",
              "        [5, 8, 9]])"
            ]
          },
          "metadata": {},
          "execution_count": 63
        }
      ]
    },
    {
      "cell_type": "code",
      "source": [
        "tensor_view[0][0] = 10\n",
        "tensor1"
      ],
      "metadata": {
        "colab": {
          "base_uri": "https://localhost:8080/"
        },
        "id": "odh2Fm0y2Ff3",
        "outputId": "05373538-e565-4b67-e8d0-1dfce08f1b04"
      },
      "execution_count": 64,
      "outputs": [
        {
          "output_type": "execute_result",
          "data": {
            "text/plain": [
              "tensor([[10,  4,  5,  9],\n",
              "        [ 9,  8,  7,  4],\n",
              "        [ 4,  5,  8,  9]])"
            ]
          },
          "metadata": {},
          "execution_count": 64
        }
      ]
    },
    {
      "cell_type": "code",
      "source": [
        "tensor_view"
      ],
      "metadata": {
        "colab": {
          "base_uri": "https://localhost:8080/"
        },
        "id": "PnLQbKMq2OMj",
        "outputId": "e3df6176-aa6a-4b46-b8d2-3597c743630d"
      },
      "execution_count": 65,
      "outputs": [
        {
          "output_type": "execute_result",
          "data": {
            "text/plain": [
              "tensor([[10,  4,  5],\n",
              "        [ 9,  9,  8],\n",
              "        [ 7,  4,  4],\n",
              "        [ 5,  8,  9]])"
            ]
          },
          "metadata": {},
          "execution_count": 65
        }
      ]
    },
    {
      "cell_type": "code",
      "source": [
        "tensor1_squeezed"
      ],
      "metadata": {
        "colab": {
          "base_uri": "https://localhost:8080/"
        },
        "id": "yVnYCo2H2Quu",
        "outputId": "d4d9f0ae-352e-46d1-f983-1652c4c544d6"
      },
      "execution_count": 66,
      "outputs": [
        {
          "output_type": "execute_result",
          "data": {
            "text/plain": [
              "tensor([10,  4,  5,  9,  9,  8,  7,  4,  4,  5,  8,  9])"
            ]
          },
          "metadata": {},
          "execution_count": 66
        }
      ]
    },
    {
      "cell_type": "code",
      "source": [
        "tensor1_squeezed.unsqueeze(dim=1)"
      ],
      "metadata": {
        "colab": {
          "base_uri": "https://localhost:8080/"
        },
        "id": "L3spueiS2Zct",
        "outputId": "6792679c-1a8e-4a9e-ea92-4793f764677c"
      },
      "execution_count": 67,
      "outputs": [
        {
          "output_type": "execute_result",
          "data": {
            "text/plain": [
              "tensor([[10],\n",
              "        [ 4],\n",
              "        [ 5],\n",
              "        [ 9],\n",
              "        [ 9],\n",
              "        [ 8],\n",
              "        [ 7],\n",
              "        [ 4],\n",
              "        [ 4],\n",
              "        [ 5],\n",
              "        [ 8],\n",
              "        [ 9]])"
            ]
          },
          "metadata": {},
          "execution_count": 67
        }
      ]
    },
    {
      "cell_type": "code",
      "source": [
        "tensor1_squeezed.reshape((3,2,2))"
      ],
      "metadata": {
        "colab": {
          "base_uri": "https://localhost:8080/"
        },
        "id": "nuQPZ7rM2dxK",
        "outputId": "b2f1e814-bb8d-475e-ab6c-17c9cdc65a25"
      },
      "execution_count": 68,
      "outputs": [
        {
          "output_type": "execute_result",
          "data": {
            "text/plain": [
              "tensor([[[10,  4],\n",
              "         [ 5,  9]],\n",
              "\n",
              "        [[ 9,  8],\n",
              "         [ 7,  4]],\n",
              "\n",
              "        [[ 4,  5],\n",
              "         [ 8,  9]]])"
            ]
          },
          "metadata": {},
          "execution_count": 68
        }
      ]
    },
    {
      "cell_type": "code",
      "source": [
        "squeezed_zeros = torch.zeros([2,3,1,2,1])\n",
        "squeezed_zeros"
      ],
      "metadata": {
        "colab": {
          "base_uri": "https://localhost:8080/"
        },
        "id": "4Ss7PH4Y2q1w",
        "outputId": "afcb37a9-d0ba-4399-e57f-66b24eacf440"
      },
      "execution_count": 69,
      "outputs": [
        {
          "output_type": "execute_result",
          "data": {
            "text/plain": [
              "tensor([[[[[0.],\n",
              "           [0.]]],\n",
              "\n",
              "\n",
              "         [[[0.],\n",
              "           [0.]]],\n",
              "\n",
              "\n",
              "         [[[0.],\n",
              "           [0.]]]],\n",
              "\n",
              "\n",
              "\n",
              "        [[[[0.],\n",
              "           [0.]]],\n",
              "\n",
              "\n",
              "         [[[0.],\n",
              "           [0.]]],\n",
              "\n",
              "\n",
              "         [[[0.],\n",
              "           [0.]]]]])"
            ]
          },
          "metadata": {},
          "execution_count": 69
        }
      ]
    },
    {
      "cell_type": "code",
      "source": [
        "squeezed_zeros = squeezed_zeros.squeeze(1)\n",
        "squeezed_zeros"
      ],
      "metadata": {
        "colab": {
          "base_uri": "https://localhost:8080/"
        },
        "id": "-2ichzap20rl",
        "outputId": "544c3ffa-5623-438b-8727-00bc440efee7"
      },
      "execution_count": 70,
      "outputs": [
        {
          "output_type": "execute_result",
          "data": {
            "text/plain": [
              "tensor([[[[[0.],\n",
              "           [0.]]],\n",
              "\n",
              "\n",
              "         [[[0.],\n",
              "           [0.]]],\n",
              "\n",
              "\n",
              "         [[[0.],\n",
              "           [0.]]]],\n",
              "\n",
              "\n",
              "\n",
              "        [[[[0.],\n",
              "           [0.]]],\n",
              "\n",
              "\n",
              "         [[[0.],\n",
              "           [0.]]],\n",
              "\n",
              "\n",
              "         [[[0.],\n",
              "           [0.]]]]])"
            ]
          },
          "metadata": {},
          "execution_count": 70
        }
      ]
    },
    {
      "cell_type": "code",
      "source": [
        "squeezed_zeros = squeezed_zeros.unsqueeze(dim=3)\n",
        "squeezed_zeros"
      ],
      "metadata": {
        "colab": {
          "base_uri": "https://localhost:8080/"
        },
        "id": "3GJlcMBK3XdE",
        "outputId": "d00a3481-3a2e-4691-d06f-65c5712e8efc"
      },
      "execution_count": 71,
      "outputs": [
        {
          "output_type": "execute_result",
          "data": {
            "text/plain": [
              "tensor([[[[[[0.],\n",
              "            [0.]]]],\n",
              "\n",
              "\n",
              "\n",
              "         [[[[0.],\n",
              "            [0.]]]],\n",
              "\n",
              "\n",
              "\n",
              "         [[[[0.],\n",
              "            [0.]]]]],\n",
              "\n",
              "\n",
              "\n",
              "\n",
              "        [[[[[0.],\n",
              "            [0.]]]],\n",
              "\n",
              "\n",
              "\n",
              "         [[[[0.],\n",
              "            [0.]]]],\n",
              "\n",
              "\n",
              "\n",
              "         [[[[0.],\n",
              "            [0.]]]]]])"
            ]
          },
          "metadata": {},
          "execution_count": 71
        }
      ]
    },
    {
      "cell_type": "code",
      "source": [
        "permute_tensor = torch.rand(4,5,3)\n",
        "print(permute_tensor)\n",
        "print(permute_tensor[0][1][2])\n",
        "# permute_tensor\n",
        "permuted_tensor = torch.permute(permute_tensor, (1,2,0))\n",
        "\n",
        "print(permuted_tensor[0][1][2])\n",
        "permuted_tensor[0][1][2] = 1\n",
        "print(permuted_tensor)\n",
        "print(permute_tensor)\n",
        "# permuted_tensor"
      ],
      "metadata": {
        "colab": {
          "base_uri": "https://localhost:8080/"
        },
        "id": "vA8tE1gr3jFN",
        "outputId": "d12985dc-191f-41a2-e0b6-02ae4f0cf675"
      },
      "execution_count": 72,
      "outputs": [
        {
          "output_type": "stream",
          "name": "stdout",
          "text": [
            "tensor([[[0.7756, 0.5089, 0.8214],\n",
            "         [0.2697, 0.2648, 0.1995],\n",
            "         [0.3081, 0.0723, 0.8025],\n",
            "         [0.0960, 0.5346, 0.3262],\n",
            "         [0.2391, 0.6190, 0.0180]],\n",
            "\n",
            "        [[0.2820, 0.9564, 0.8037],\n",
            "         [0.1854, 0.8871, 0.7552],\n",
            "         [0.7907, 0.5047, 0.9013],\n",
            "         [0.7124, 0.5115, 0.9398],\n",
            "         [0.6575, 0.5606, 0.6120]],\n",
            "\n",
            "        [[0.3175, 0.1994, 0.1878],\n",
            "         [0.8217, 0.1662, 0.3420],\n",
            "         [0.0646, 0.8273, 0.4285],\n",
            "         [0.9677, 0.5806, 0.0502],\n",
            "         [0.4412, 0.9067, 0.1170]],\n",
            "\n",
            "        [[0.2412, 0.5203, 0.8135],\n",
            "         [0.2771, 0.0888, 0.6570],\n",
            "         [0.7720, 0.0883, 0.6201],\n",
            "         [0.8199, 0.2653, 0.3026],\n",
            "         [0.7951, 0.7255, 0.9282]]])\n",
            "tensor(0.1995)\n",
            "tensor(0.1994)\n",
            "tensor([[[0.7756, 0.2820, 0.3175, 0.2412],\n",
            "         [0.5089, 0.9564, 1.0000, 0.5203],\n",
            "         [0.8214, 0.8037, 0.1878, 0.8135]],\n",
            "\n",
            "        [[0.2697, 0.1854, 0.8217, 0.2771],\n",
            "         [0.2648, 0.8871, 0.1662, 0.0888],\n",
            "         [0.1995, 0.7552, 0.3420, 0.6570]],\n",
            "\n",
            "        [[0.3081, 0.7907, 0.0646, 0.7720],\n",
            "         [0.0723, 0.5047, 0.8273, 0.0883],\n",
            "         [0.8025, 0.9013, 0.4285, 0.6201]],\n",
            "\n",
            "        [[0.0960, 0.7124, 0.9677, 0.8199],\n",
            "         [0.5346, 0.5115, 0.5806, 0.2653],\n",
            "         [0.3262, 0.9398, 0.0502, 0.3026]],\n",
            "\n",
            "        [[0.2391, 0.6575, 0.4412, 0.7951],\n",
            "         [0.6190, 0.5606, 0.9067, 0.7255],\n",
            "         [0.0180, 0.6120, 0.1170, 0.9282]]])\n",
            "tensor([[[0.7756, 0.5089, 0.8214],\n",
            "         [0.2697, 0.2648, 0.1995],\n",
            "         [0.3081, 0.0723, 0.8025],\n",
            "         [0.0960, 0.5346, 0.3262],\n",
            "         [0.2391, 0.6190, 0.0180]],\n",
            "\n",
            "        [[0.2820, 0.9564, 0.8037],\n",
            "         [0.1854, 0.8871, 0.7552],\n",
            "         [0.7907, 0.5047, 0.9013],\n",
            "         [0.7124, 0.5115, 0.9398],\n",
            "         [0.6575, 0.5606, 0.6120]],\n",
            "\n",
            "        [[0.3175, 1.0000, 0.1878],\n",
            "         [0.8217, 0.1662, 0.3420],\n",
            "         [0.0646, 0.8273, 0.4285],\n",
            "         [0.9677, 0.5806, 0.0502],\n",
            "         [0.4412, 0.9067, 0.1170]],\n",
            "\n",
            "        [[0.2412, 0.5203, 0.8135],\n",
            "         [0.2771, 0.0888, 0.6570],\n",
            "         [0.7720, 0.0883, 0.6201],\n",
            "         [0.8199, 0.2653, 0.3026],\n",
            "         [0.7951, 0.7255, 0.9282]]])\n"
          ]
        }
      ]
    },
    {
      "cell_type": "code",
      "source": [
        "np_arr = np.arange(1.0,10.0)\n",
        "np_arr"
      ],
      "metadata": {
        "colab": {
          "base_uri": "https://localhost:8080/"
        },
        "id": "nZyOXuUQ4IWs",
        "outputId": "59fd033f-3d80-4127-9f6e-9ceed455804f"
      },
      "execution_count": 73,
      "outputs": [
        {
          "output_type": "execute_result",
          "data": {
            "text/plain": [
              "array([1., 2., 3., 4., 5., 6., 7., 8., 9.])"
            ]
          },
          "metadata": {},
          "execution_count": 73
        }
      ]
    },
    {
      "cell_type": "code",
      "source": [
        "torch_tensor = torch.from_numpy(np_arr).type(torch.float32)\n",
        "print(torch_tensor)\n",
        "print(torch_tensor.dtype)"
      ],
      "metadata": {
        "colab": {
          "base_uri": "https://localhost:8080/"
        },
        "id": "CeMGO3jxjvSP",
        "outputId": "338d829a-c778-4959-d547-dfb713582a06"
      },
      "execution_count": 76,
      "outputs": [
        {
          "output_type": "stream",
          "name": "stdout",
          "text": [
            "torch.float32\n"
          ]
        }
      ]
    },
    {
      "cell_type": "code",
      "source": [
        "tor_ten = torch.ones(9)\n",
        "tor_ten"
      ],
      "metadata": {
        "colab": {
          "base_uri": "https://localhost:8080/"
        },
        "id": "o-3MZ25lkmfl",
        "outputId": "c88c6b01-4215-420e-8cdd-e36013326e76"
      },
      "execution_count": 79,
      "outputs": [
        {
          "output_type": "execute_result",
          "data": {
            "text/plain": [
              "tensor([1., 1., 1., 1., 1., 1., 1., 1., 1.])"
            ]
          },
          "metadata": {},
          "execution_count": 79
        }
      ]
    },
    {
      "cell_type": "code",
      "source": [
        "num_arr = tor_ten.numpy()\n",
        "num_arr"
      ],
      "metadata": {
        "colab": {
          "base_uri": "https://localhost:8080/"
        },
        "id": "nEjEIoJ2k7hE",
        "outputId": "8965b5d6-3dba-4f5c-ee84-944711ad2b9c"
      },
      "execution_count": 80,
      "outputs": [
        {
          "output_type": "execute_result",
          "data": {
            "text/plain": [
              "array([1., 1., 1., 1., 1., 1., 1., 1., 1.], dtype=float32)"
            ]
          },
          "metadata": {},
          "execution_count": 80
        }
      ]
    },
    {
      "cell_type": "code",
      "source": [
        "RANDOM_SEED = 42"
      ],
      "metadata": {
        "id": "jkbG5NTXnPxC"
      },
      "execution_count": 93,
      "outputs": []
    },
    {
      "cell_type": "code",
      "source": [
        "torch.manual_seed(RANDOM_SEED)\n",
        "rand_tens1 = torch.rand(3,4)\n",
        "rand_tens1"
      ],
      "metadata": {
        "colab": {
          "base_uri": "https://localhost:8080/"
        },
        "id": "9w8BEQyqlKDF",
        "outputId": "3679f3f6-9ac0-424b-9c6e-ffe779cfb471"
      },
      "execution_count": 94,
      "outputs": [
        {
          "output_type": "execute_result",
          "data": {
            "text/plain": [
              "tensor([[0.8823, 0.9150, 0.3829, 0.9593],\n",
              "        [0.3904, 0.6009, 0.2566, 0.7936],\n",
              "        [0.9408, 0.1332, 0.9346, 0.5936]])"
            ]
          },
          "metadata": {},
          "execution_count": 94
        }
      ]
    },
    {
      "cell_type": "code",
      "source": [
        "torch.manual_seed(RANDOM_SEED)\n",
        "rand_tens2 = torch.rand(3,4)\n",
        "rand_tens2"
      ],
      "metadata": {
        "colab": {
          "base_uri": "https://localhost:8080/"
        },
        "id": "yCnQk-YBmv2K",
        "outputId": "e52f1a9f-06c7-449a-fddf-f159809513dd"
      },
      "execution_count": 95,
      "outputs": [
        {
          "output_type": "execute_result",
          "data": {
            "text/plain": [
              "tensor([[0.8823, 0.9150, 0.3829, 0.9593],\n",
              "        [0.3904, 0.6009, 0.2566, 0.7936],\n",
              "        [0.9408, 0.1332, 0.9346, 0.5936]])"
            ]
          },
          "metadata": {},
          "execution_count": 95
        }
      ]
    },
    {
      "cell_type": "code",
      "source": [
        "rand_tens1==rand_tens2"
      ],
      "metadata": {
        "colab": {
          "base_uri": "https://localhost:8080/"
        },
        "id": "1qqYnzO1m16z",
        "outputId": "986e13a0-f90d-4648-c4b2-369a8f80943b"
      },
      "execution_count": 96,
      "outputs": [
        {
          "output_type": "execute_result",
          "data": {
            "text/plain": [
              "tensor([[True, True, True, True],\n",
              "        [True, True, True, True],\n",
              "        [True, True, True, True]])"
            ]
          },
          "metadata": {},
          "execution_count": 96
        }
      ]
    },
    {
      "cell_type": "code",
      "source": [
        "import torch\n",
        "import numpy as np"
      ],
      "metadata": {
        "id": "TZtfptHLoUAT"
      },
      "execution_count": 2,
      "outputs": []
    },
    {
      "cell_type": "code",
      "source": [
        "device = 'cuda' if torch.cuda.is_available() else 'cpu'\n",
        "device"
      ],
      "metadata": {
        "colab": {
          "base_uri": "https://localhost:8080/",
          "height": 35
        },
        "id": "FSUcZsmdm4LO",
        "outputId": "b2e23a42-6aa8-4845-ec51-da0283e5ea9a"
      },
      "execution_count": 3,
      "outputs": [
        {
          "output_type": "execute_result",
          "data": {
            "text/plain": [
              "'cuda'"
            ],
            "application/vnd.google.colaboratory.intrinsic+json": {
              "type": "string"
            }
          },
          "metadata": {},
          "execution_count": 3
        }
      ]
    },
    {
      "cell_type": "code",
      "source": [
        "torch.cuda.device_count()"
      ],
      "metadata": {
        "colab": {
          "base_uri": "https://localhost:8080/"
        },
        "id": "JWFuOVAangdz",
        "outputId": "403cc272-716a-4305-a48b-5206105174ee"
      },
      "execution_count": 4,
      "outputs": [
        {
          "output_type": "execute_result",
          "data": {
            "text/plain": [
              "1"
            ]
          },
          "metadata": {},
          "execution_count": 4
        }
      ]
    },
    {
      "cell_type": "code",
      "source": [
        "torch_tensor = torch.tensor([1,2,3])\n",
        "torch_tensor"
      ],
      "metadata": {
        "colab": {
          "base_uri": "https://localhost:8080/"
        },
        "id": "IQJSZn2RnrFo",
        "outputId": "908e2ad4-99e8-4f79-da7c-aaf3430072d6"
      },
      "execution_count": 5,
      "outputs": [
        {
          "output_type": "execute_result",
          "data": {
            "text/plain": [
              "tensor([1, 2, 3])"
            ]
          },
          "metadata": {},
          "execution_count": 5
        }
      ]
    },
    {
      "cell_type": "code",
      "source": [
        "tensor_gpu = torch_tensor.to(device)\n",
        "tensor_gpu"
      ],
      "metadata": {
        "colab": {
          "base_uri": "https://localhost:8080/"
        },
        "id": "OQ1j7awQn1Dn",
        "outputId": "a50c93d6-c98a-4b0b-c415-cee2df4b6dd4"
      },
      "execution_count": 6,
      "outputs": [
        {
          "output_type": "execute_result",
          "data": {
            "text/plain": [
              "tensor([1, 2, 3], device='cuda:0')"
            ]
          },
          "metadata": {},
          "execution_count": 6
        }
      ]
    },
    {
      "cell_type": "code",
      "source": [
        "tensor_cpu = tensor_gpu.cpu().numpy()\n",
        "tensor_cpu"
      ],
      "metadata": {
        "colab": {
          "base_uri": "https://localhost:8080/"
        },
        "id": "OnaZiwMhn7Dw",
        "outputId": "fceee097-cac4-4f93-e213-f82393858293"
      },
      "execution_count": 9,
      "outputs": [
        {
          "output_type": "execute_result",
          "data": {
            "text/plain": [
              "array([1, 2, 3])"
            ]
          },
          "metadata": {},
          "execution_count": 9
        }
      ]
    },
    {
      "cell_type": "code",
      "source": [],
      "metadata": {
        "id": "4RkafCfyoFEd"
      },
      "execution_count": 7,
      "outputs": []
    }
  ]
}