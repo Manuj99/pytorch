{
  "nbformat": 4,
  "nbformat_minor": 0,
  "metadata": {
    "colab": {
      "provenance": [],
      "gpuType": "T4",
      "authorship_tag": "ABX9TyO6o5pa4Riq8LL7NW3RYaUw",
      "include_colab_link": true
    },
    "kernelspec": {
      "name": "python3",
      "display_name": "Python 3"
    },
    "language_info": {
      "name": "python"
    },
    "accelerator": "GPU"
  },
  "cells": [
    {
      "cell_type": "markdown",
      "metadata": {
        "id": "view-in-github",
        "colab_type": "text"
      },
      "source": [
        "<a href=\"https://colab.research.google.com/github/Manuj99/pytorch/blob/pytorch_1/pytorch_fundamentals_excercise.ipynb\" target=\"_parent\"><img src=\"https://colab.research.google.com/assets/colab-badge.svg\" alt=\"Open In Colab\"/></a>"
      ]
    },
    {
      "cell_type": "code",
      "execution_count": 1,
      "metadata": {
        "id": "MexFBMYwotyU"
      },
      "outputs": [],
      "source": [
        "import torch\n",
        "import numpy as np\n",
        "import pandas as pd\n",
        "import matplotlib.pyplot as plt"
      ]
    },
    {
      "cell_type": "code",
      "source": [
        "rand_tensor_1 = torch.rand(7,7)\n",
        "rand_tensor_1"
      ],
      "metadata": {
        "colab": {
          "base_uri": "https://localhost:8080/"
        },
        "id": "SoPHdYRDo6pC",
        "outputId": "713b9cb0-baf7-4564-845d-6e843a0f1de3"
      },
      "execution_count": 2,
      "outputs": [
        {
          "output_type": "execute_result",
          "data": {
            "text/plain": [
              "tensor([[0.9980, 0.9031, 0.5597, 0.5014, 0.4472, 0.3358, 0.4122],\n",
              "        [0.5488, 0.9929, 0.6936, 0.9345, 0.3986, 0.1067, 0.0212],\n",
              "        [0.1545, 0.4608, 0.3073, 0.8483, 0.2068, 0.4290, 0.4190],\n",
              "        [0.8414, 0.4744, 0.0642, 0.3477, 0.2141, 0.6164, 0.2711],\n",
              "        [0.2288, 0.6335, 0.9255, 0.2034, 0.5957, 0.1127, 0.6130],\n",
              "        [0.4292, 0.4127, 0.2343, 0.2430, 0.4055, 0.4609, 0.0858],\n",
              "        [0.8329, 0.5533, 0.8112, 0.6487, 0.7823, 0.3375, 0.3868]])"
            ]
          },
          "metadata": {},
          "execution_count": 2
        }
      ]
    },
    {
      "cell_type": "code",
      "source": [
        "rand_tensor_2 = torch.rand(1,7)\n",
        "rand_tensor_2"
      ],
      "metadata": {
        "colab": {
          "base_uri": "https://localhost:8080/"
        },
        "id": "uHy2dx8kprsy",
        "outputId": "800c8b7a-b030-4785-a0d6-114350c9d67b"
      },
      "execution_count": 3,
      "outputs": [
        {
          "output_type": "execute_result",
          "data": {
            "text/plain": [
              "tensor([[0.0103, 0.6651, 0.8837, 0.8421, 0.8721, 0.8648, 0.9551]])"
            ]
          },
          "metadata": {},
          "execution_count": 3
        }
      ]
    },
    {
      "cell_type": "code",
      "source": [
        "rand_res = rand_tensor_1 @ rand_tensor_2.T\n",
        "rand_res"
      ],
      "metadata": {
        "colab": {
          "base_uri": "https://localhost:8080/"
        },
        "id": "FzkX84lvp0X2",
        "outputId": "ef430157-eeca-4f93-f918-b1f9b6b4145f"
      },
      "execution_count": 4,
      "outputs": [
        {
          "output_type": "execute_result",
          "data": {
            "text/plain": [
              "tensor([[2.6017],\n",
              "        [2.5260],\n",
              "        [2.2455],\n",
              "        [1.6525],\n",
              "        [2.6152],\n",
              "        [1.5246],\n",
              "        [2.9832]])"
            ]
          },
          "metadata": {},
          "execution_count": 4
        }
      ]
    },
    {
      "cell_type": "code",
      "source": [
        "!nvidia-smi"
      ],
      "metadata": {
        "colab": {
          "base_uri": "https://localhost:8080/"
        },
        "id": "s1EFAMoEt9Ah",
        "outputId": "2947895b-edb0-49dd-d1ff-e8557a129b8e"
      },
      "execution_count": 11,
      "outputs": [
        {
          "output_type": "stream",
          "name": "stdout",
          "text": [
            "Mon Sep 29 23:03:55 2025       \n",
            "+-----------------------------------------------------------------------------------------+\n",
            "| NVIDIA-SMI 550.54.15              Driver Version: 550.54.15      CUDA Version: 12.4     |\n",
            "|-----------------------------------------+------------------------+----------------------+\n",
            "| GPU  Name                 Persistence-M | Bus-Id          Disp.A | Volatile Uncorr. ECC |\n",
            "| Fan  Temp   Perf          Pwr:Usage/Cap |           Memory-Usage | GPU-Util  Compute M. |\n",
            "|                                         |                        |               MIG M. |\n",
            "|=========================================+========================+======================|\n",
            "|   0  Tesla T4                       Off |   00000000:00:04.0 Off |                    0 |\n",
            "| N/A   41C    P8              9W /   70W |       0MiB /  15360MiB |      0%      Default |\n",
            "|                                         |                        |                  N/A |\n",
            "+-----------------------------------------+------------------------+----------------------+\n",
            "                                                                                         \n",
            "+-----------------------------------------------------------------------------------------+\n",
            "| Processes:                                                                              |\n",
            "|  GPU   GI   CI        PID   Type   Process name                              GPU Memory |\n",
            "|        ID   ID                                                               Usage      |\n",
            "|=========================================================================================|\n",
            "|  No running processes found                                                             |\n",
            "+-----------------------------------------------------------------------------------------+\n"
          ]
        }
      ]
    },
    {
      "cell_type": "code",
      "source": [
        "device = 'cuda' if torch.cuda.is_available() else 'cpu'"
      ],
      "metadata": {
        "id": "356csYDvt_YO"
      },
      "execution_count": 12,
      "outputs": []
    },
    {
      "cell_type": "code",
      "source": [
        "torch.cuda.device_count()"
      ],
      "metadata": {
        "colab": {
          "base_uri": "https://localhost:8080/"
        },
        "id": "pFkKU_puuFEc",
        "outputId": "49ef2022-d14c-4fa6-f143-e94e6d44efcb"
      },
      "execution_count": 13,
      "outputs": [
        {
          "output_type": "execute_result",
          "data": {
            "text/plain": [
              "1"
            ]
          },
          "metadata": {},
          "execution_count": 13
        }
      ]
    },
    {
      "cell_type": "code",
      "source": [
        "torch.cuda.manual_seed(1234)"
      ],
      "metadata": {
        "id": "9et6xibgutqn"
      },
      "execution_count": 23,
      "outputs": []
    },
    {
      "cell_type": "code",
      "source": [
        "# torch.manual_seed(0)\n",
        "# torch.cuda.seed()\n",
        "torch.cuda.manual_seed(1234)\n",
        "rand_tensor_seed1 = torch.rand(7,7, device=device)\n",
        "# rand_tensor_seed1.to(device)\n",
        "print(rand_tensor_seed1)\n",
        "# torch.manual_seed(0)\n",
        "# torch.cuda.seed()\n",
        "torch.cuda.manual_seed(1234)\n",
        "rand_tensor_seed2 = torch.rand(1,7, device=device)\n",
        "# rand_tensor_seed2.to(device)\n",
        "print(rand_tensor_seed2)\n",
        "rand_res_seed = torch.mm(rand_tensor_seed1, rand_tensor_seed2.T)\n",
        "print(rand_res_seed)"
      ],
      "metadata": {
        "colab": {
          "base_uri": "https://localhost:8080/"
        },
        "id": "snWcxDEFp6GW",
        "outputId": "2f111749-2cb2-4a48-a3a9-7461753627a2"
      },
      "execution_count": 35,
      "outputs": [
        {
          "output_type": "stream",
          "name": "stdout",
          "text": [
            "tensor([[0.1272, 0.8167, 0.5440, 0.6601, 0.2721, 0.9737, 0.3903],\n",
            "        [0.3394, 0.5451, 0.7312, 0.3864, 0.5959, 0.7578, 0.2126],\n",
            "        [0.7198, 0.9845, 0.5518, 0.0981, 0.0582, 0.5839, 0.1083],\n",
            "        [0.9461, 0.3170, 0.8328, 0.6676, 0.2886, 0.9022, 0.8115],\n",
            "        [0.1784, 0.9534, 0.1486, 0.3882, 0.7977, 0.1752, 0.5777],\n",
            "        [0.1949, 0.8499, 0.3125, 0.2156, 0.0383, 0.4934, 0.3138],\n",
            "        [0.3121, 0.5664, 0.1266, 0.7097, 0.0040, 0.5147, 0.2811]],\n",
            "       device='cuda:0')\n",
            "tensor([[0.1272, 0.8167, 0.5440, 0.6601, 0.2721, 0.9737, 0.3903]],\n",
            "       device='cuda:0')\n",
            "tensor([[2.5893],\n",
            "        [2.1242],\n",
            "        [1.8872],\n",
            "        [2.5468],\n",
            "        [1.7516],\n",
            "        [1.6445],\n",
            "        [1.6517]], device='cuda:0')\n"
          ]
        }
      ]
    },
    {
      "cell_type": "code",
      "source": [
        "torch.manual_seed(1234)\n",
        "rand_tensor_3 = torch.rand(2,3).to(device)\n",
        "torch.manual_seed(1234)\n",
        "rand_tensor_4 = torch.rand(2,3).to(device)\n",
        "rand_res_2 = rand_tensor_3@rand_tensor_4.T\n",
        "rand_res_2"
      ],
      "metadata": {
        "colab": {
          "base_uri": "https://localhost:8080/"
        },
        "id": "_N-RQmrNqwQn",
        "outputId": "774dd90e-fb73-4be1-8b36-57916bf110a7"
      },
      "execution_count": 42,
      "outputs": [
        {
          "output_type": "execute_result",
          "data": {
            "text/plain": [
              "tensor([[0.2299, 0.2161],\n",
              "        [0.2161, 0.6287]], device='cuda:0')"
            ]
          },
          "metadata": {},
          "execution_count": 42
        }
      ]
    },
    {
      "cell_type": "code",
      "source": [
        "print(rand_res_2.min())\n",
        "print(torch.min(rand_res_2))\n",
        "print(rand_res_2.argmin())\n",
        "print(torch.argmin(rand_res_2))"
      ],
      "metadata": {
        "colab": {
          "base_uri": "https://localhost:8080/"
        },
        "id": "ZQlTeSaZxzrI",
        "outputId": "0cca0178-d441-416e-cac4-a7a160bc508a"
      },
      "execution_count": 49,
      "outputs": [
        {
          "output_type": "stream",
          "name": "stdout",
          "text": [
            "tensor(0.2161, device='cuda:0')\n",
            "tensor(0.2161, device='cuda:0')\n",
            "tensor(1, device='cuda:0')\n",
            "tensor(1, device='cuda:0')\n"
          ]
        }
      ]
    },
    {
      "cell_type": "code",
      "source": [
        "print(rand_res_2.max())\n",
        "print(torch.max(rand_res_2))\n",
        "print(rand_res_2.argmax())\n",
        "print(torch.argmax(rand_res_2))"
      ],
      "metadata": {
        "colab": {
          "base_uri": "https://localhost:8080/"
        },
        "id": "xJej4z2UyF_U",
        "outputId": "dd8bdb99-edb1-42b6-af9b-a852d847ea14"
      },
      "execution_count": 51,
      "outputs": [
        {
          "output_type": "stream",
          "name": "stdout",
          "text": [
            "tensor(0.6287, device='cuda:0')\n",
            "tensor(0.6287, device='cuda:0')\n",
            "tensor(3, device='cuda:0')\n",
            "tensor(3, device='cuda:0')\n"
          ]
        }
      ]
    },
    {
      "cell_type": "code",
      "source": [
        "torch.manual_seed(7)\n",
        "# torch.cuda.manual_seed(7)\n",
        "rand_tensor_5 = torch.rand(1,1,1,10)\n",
        "print(rand_tensor_5)\n",
        "print(rand_tensor_5.shape)\n",
        "rand_tensor_5_squeezed = rand_tensor_5.squeeze()\n",
        "print(rand_tensor_5_squeezed)\n",
        "print(rand_tensor_5_squeezed.shape)"
      ],
      "metadata": {
        "colab": {
          "base_uri": "https://localhost:8080/"
        },
        "id": "mbsGELgtyUPV",
        "outputId": "8a04d1ad-0a50-4491-de8b-51ed6b4ec1d5"
      },
      "execution_count": 52,
      "outputs": [
        {
          "output_type": "stream",
          "name": "stdout",
          "text": [
            "tensor([[[[0.5349, 0.1988, 0.6592, 0.6569, 0.2328, 0.4251, 0.2071, 0.6297,\n",
            "           0.3653, 0.8513]]]])\n",
            "torch.Size([1, 1, 1, 10])\n",
            "tensor([0.5349, 0.1988, 0.6592, 0.6569, 0.2328, 0.4251, 0.2071, 0.6297, 0.3653,\n",
            "        0.8513])\n",
            "torch.Size([10])\n"
          ]
        }
      ]
    },
    {
      "cell_type": "code",
      "source": [],
      "metadata": {
        "id": "xKBYpIsQzTaU"
      },
      "execution_count": null,
      "outputs": []
    }
  ]
}