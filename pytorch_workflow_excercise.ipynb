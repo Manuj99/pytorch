{
  "nbformat": 4,
  "nbformat_minor": 0,
  "metadata": {
    "colab": {
      "provenance": [],
      "gpuType": "T4",
      "authorship_tag": "ABX9TyNypwlTKHQfxuwvmLfQTnHQ",
      "include_colab_link": true
    },
    "kernelspec": {
      "name": "python3",
      "display_name": "Python 3"
    },
    "language_info": {
      "name": "python"
    },
    "accelerator": "GPU"
  },
  "cells": [
    {
      "cell_type": "markdown",
      "metadata": {
        "id": "view-in-github",
        "colab_type": "text"
      },
      "source": [
        "<a href=\"https://colab.research.google.com/github/Manuj99/pytorch/blob/main/pytorch_workflow_excercise.ipynb\" target=\"_parent\"><img src=\"https://colab.research.google.com/assets/colab-badge.svg\" alt=\"Open In Colab\"/></a>"
      ]
    },
    {
      "cell_type": "code",
      "execution_count": 237,
      "metadata": {
        "id": "wYSlLzdetD4D"
      },
      "outputs": [],
      "source": [
        "import torch\n",
        "from torch import nn\n",
        "import matplotlib.pyplot as plt\n",
        "import pandas as pd\n",
        "import numpy as np"
      ]
    },
    {
      "cell_type": "code",
      "source": [
        "device = 'cuda' if torch.cuda.is_available() else 'cpu'\n",
        "device"
      ],
      "metadata": {
        "colab": {
          "base_uri": "https://localhost:8080/",
          "height": 35
        },
        "id": "96Q4HFUMtX_j",
        "outputId": "6985f837-3348-4782-98fa-e152cb87cd80"
      },
      "execution_count": 238,
      "outputs": [
        {
          "output_type": "execute_result",
          "data": {
            "text/plain": [
              "'cuda'"
            ],
            "application/vnd.google.colaboratory.intrinsic+json": {
              "type": "string"
            }
          },
          "metadata": {},
          "execution_count": 238
        }
      ]
    },
    {
      "cell_type": "code",
      "source": [
        "weight = 0.3\n",
        "bias = 0.9\n",
        "\n",
        "X = torch.arange(0,10,0.07)\n",
        "y = weight * X + bias\n",
        "len(X), len(y)"
      ],
      "metadata": {
        "colab": {
          "base_uri": "https://localhost:8080/"
        },
        "id": "ks5Fkn6Tt30z",
        "outputId": "8f4d6c9e-3e84-4c83-9fd8-0a1a7caefd9a"
      },
      "execution_count": 239,
      "outputs": [
        {
          "output_type": "execute_result",
          "data": {
            "text/plain": [
              "(143, 143)"
            ]
          },
          "metadata": {},
          "execution_count": 239
        }
      ]
    },
    {
      "cell_type": "code",
      "source": [
        "from sklearn.model_selection import train_test_split\n",
        "\n",
        "X_train, X_test, y_train, y_test = train_test_split(X,y,test_size=0.2)\n",
        "len(X_train), len(X_test), len(y_train), len(y_test)"
      ],
      "metadata": {
        "colab": {
          "base_uri": "https://localhost:8080/"
        },
        "id": "AbC_qpfdufzz",
        "outputId": "e9e64e1c-09ea-4f12-96cb-65c45dc7f1a2"
      },
      "execution_count": 240,
      "outputs": [
        {
          "output_type": "execute_result",
          "data": {
            "text/plain": [
              "(114, 29, 114, 29)"
            ]
          },
          "metadata": {},
          "execution_count": 240
        }
      ]
    },
    {
      "cell_type": "code",
      "source": [
        "X_train[:5], y_train[:5]"
      ],
      "metadata": {
        "colab": {
          "base_uri": "https://localhost:8080/"
        },
        "id": "JjPfykPTupvj",
        "outputId": "ed8a7250-8d8a-4bc7-84d3-e4f2bf896dc9"
      },
      "execution_count": 241,
      "outputs": [
        {
          "output_type": "execute_result",
          "data": {
            "text/plain": [
              "(tensor([3.9900, 9.3800, 9.7300, 5.4600, 9.9400]),\n",
              " tensor([2.0970, 3.7140, 3.8190, 2.5380, 3.8820]))"
            ]
          },
          "metadata": {},
          "execution_count": 241
        }
      ]
    },
    {
      "cell_type": "code",
      "source": [
        "def plot_points(train_data=X_train, train_labels=y_train, test_data=X_test, test_labels=y_test, predictions=None):\n",
        "  plt.figure(figsize=(10,7))\n",
        "  plt.scatter(train_data, train_labels, c='b', s=4, label=\"Training data\")\n",
        "  plt.scatter(test_data, test_labels, c='g', s=4, label=\"Test data\")\n",
        "  if predictions is not None:\n",
        "    plt.scatter(test_data, predictions, c='r', s=4, label=\"Predictions\")\n",
        "  plt.legend()"
      ],
      "metadata": {
        "id": "XjQqVQIcwlbB"
      },
      "execution_count": 242,
      "outputs": []
    },
    {
      "cell_type": "code",
      "source": [
        "X_train, X_test = X_train.to(device), X_test.to(device)\n",
        "y_train, y_test = y_train.to(device), y_test.to(device)"
      ],
      "metadata": {
        "id": "WtR_ZyIJzLCH"
      },
      "execution_count": 243,
      "outputs": []
    },
    {
      "cell_type": "code",
      "source": [
        "plot_points()"
      ],
      "metadata": {
        "colab": {
          "base_uri": "https://localhost:8080/",
          "height": 600
        },
        "id": "kFMIglocxRV8",
        "outputId": "d68e8107-2385-4c95-c558-1734560e73ca"
      },
      "execution_count": 244,
      "outputs": [
        {
          "output_type": "display_data",
          "data": {
            "text/plain": [
              "<Figure size 1000x700 with 1 Axes>"
            ],
            "image/png": "[encoded data removed]"
          },
          "metadata": {}
        }
      ]
    },
    {
      "cell_type": "code",
      "source": [
        "class LinearRegressionModel(nn.Module):\n",
        "  def __init__(self):\n",
        "    super().__init__()\n",
        "    self.weight = nn.Parameter(torch.rand(1, requires_grad=True, dtype=torch.float))\n",
        "    self.bias = nn.Parameter(torch.rand(1, requires_grad=True, dtype=torch.float))\n",
        "\n",
        "  def forward(self, x:torch.Tensor) -> torch.Tensor:\n",
        "    return self.weight*x+self.bias"
      ],
      "metadata": {
        "id": "_p3TwFROxSQ-"
      },
      "execution_count": 245,
      "outputs": []
    },
    {
      "cell_type": "code",
      "source": [
        "torch.manual_seed(42)\n",
        "model_0 = LinearRegressionModel().to(device)\n",
        "model_0.state_dict()"
      ],
      "metadata": {
        "colab": {
          "base_uri": "https://localhost:8080/"
        },
        "id": "C96rllL7yNvJ",
        "outputId": "445680e6-2874-4c72-d5a0-18cfeedbf10b"
      },
      "execution_count": 246,
      "outputs": [
        {
          "output_type": "execute_result",
          "data": {
            "text/plain": [
              "OrderedDict([('weight', tensor([0.8823], device='cuda:0')),\n",
              "             ('bias', tensor([0.9150], device='cuda:0'))])"
            ]
          },
          "metadata": {},
          "execution_count": 246
        }
      ]
    },
    {
      "cell_type": "code",
      "source": [
        "loss_fn = nn.L1Loss()\n",
        "loss_fn"
      ],
      "metadata": {
        "colab": {
          "base_uri": "https://localhost:8080/"
        },
        "id": "I8q3gH_Tyn8T",
        "outputId": "ff450f99-792f-4934-e338-c42d8a8dbbd9"
      },
      "execution_count": 247,
      "outputs": [
        {
          "output_type": "execute_result",
          "data": {
            "text/plain": [
              "L1Loss()"
            ]
          },
          "metadata": {},
          "execution_count": 247
        }
      ]
    },
    {
      "cell_type": "code",
      "source": [
        "optimizer = torch.optim.SGD(model_0.parameters(), lr=0.01)\n",
        "optimizer"
      ],
      "metadata": {
        "colab": {
          "base_uri": "https://localhost:8080/"
        },
        "id": "zSV3-P7wyvGD",
        "outputId": "27839b5b-f634-463a-defa-e5ddd2f782e7"
      },
      "execution_count": 248,
      "outputs": [
        {
          "output_type": "execute_result",
          "data": {
            "text/plain": [
              "SGD (\n",
              "Parameter Group 0\n",
              "    dampening: 0\n",
              "    differentiable: False\n",
              "    foreach: None\n",
              "    fused: None\n",
              "    lr: 0.01\n",
              "    maximize: False\n",
              "    momentum: 0\n",
              "    nesterov: False\n",
              "    weight_decay: 0\n",
              ")"
            ]
          },
          "metadata": {},
          "execution_count": 248
        }
      ]
    },
    {
      "cell_type": "code",
      "source": [
        "model_0.eval()\n",
        "with torch.inference_mode():\n",
        "  test_pred = model_0(X_test)\n",
        "plot_points(predictions=test_pred.cpu())"
      ],
      "metadata": {
        "colab": {
          "base_uri": "https://localhost:8080/",
          "height": 599
        },
        "id": "aysZgdKzy3Lv",
        "outputId": "ff7fb2fb-468a-4c2d-c516-f7485d01ef5a"
      },
      "execution_count": 249,
      "outputs": [
        {
          "output_type": "display_data",
          "data": {
            "text/plain": [
              "<Figure size 1000x700 with 1 Axes>"
            ],
            "image/png": "[encoded data removed]"
          },
          "metadata": {}
        }
      ]
    },
    {
      "cell_type": "code",
      "source": [
        "epoch_counts=[]\n",
        "train_losses = []\n",
        "test_losses = []\n",
        "epochs = 300\n",
        "for epoch in range(epochs):\n",
        "  model_0.train()\n",
        "\n",
        "  pred_0 = model_0(X_train)\n",
        "\n",
        "  loss = loss_fn(pred_0, y_train)\n",
        "\n",
        "  optimizer.zero_grad()\n",
        "\n",
        "  loss.backward()\n",
        "\n",
        "  optimizer.step()\n",
        "\n",
        "  if epoch%20==0:\n",
        "    model_0.eval()\n",
        "\n",
        "    with torch.inference_mode():\n",
        "      pred_1 = model_0(X_test)\n",
        "\n",
        "      test_loss = loss_fn(pred_1, y_test)\n",
        "\n",
        "    epoch_counts.append(epoch)\n",
        "    train_losses.append(loss)\n",
        "    test_losses.append(test_loss)\n",
        "    print(f\"Epoch: {epoch} | train_loss: {loss:.4f} | test_loss: {test_loss:.4f}\")\n"
      ],
      "metadata": {
        "colab": {
          "base_uri": "https://localhost:8080/"
        },
        "id": "-j29w60ZzFyC",
        "outputId": "08b88c2d-1ec7-4e4c-f858-da33e6545a6d"
      },
      "execution_count": 250,
      "outputs": [
        {
          "output_type": "stream",
          "name": "stdout",
          "text": [
            "Epoch: 0 | train_loss: 2.9003 | test_loss: 2.6835\n",
            "Epoch: 20 | train_loss: 0.0562 | test_loss: 0.2065\n",
            "Epoch: 40 | train_loss: 0.0738 | test_loss: 0.1852\n",
            "Epoch: 60 | train_loss: 0.0240 | test_loss: 0.2353\n",
            "Epoch: 80 | train_loss: 0.0880 | test_loss: 0.1702\n",
            "Epoch: 100 | train_loss: 0.0754 | test_loss: 0.1829\n",
            "Epoch: 120 | train_loss: 0.0704 | test_loss: 0.1879\n",
            "Epoch: 140 | train_loss: 0.0686 | test_loss: 0.1897\n",
            "Epoch: 160 | train_loss: 0.0679 | test_loss: 0.1904\n",
            "Epoch: 180 | train_loss: 0.0679 | test_loss: 0.1904\n",
            "Epoch: 200 | train_loss: 0.0679 | test_loss: 0.1904\n",
            "Epoch: 220 | train_loss: 0.0679 | test_loss: 0.1904\n",
            "Epoch: 240 | train_loss: 0.0679 | test_loss: 0.1904\n",
            "Epoch: 260 | train_loss: 0.0679 | test_loss: 0.1904\n",
            "Epoch: 280 | train_loss: 0.0679 | test_loss: 0.1904\n"
          ]
        }
      ]
    },
    {
      "cell_type": "code",
      "source": [
        "model_0.eval()\n",
        "with torch.inference_mode():\n",
        "  test_pred = model_0(X_test)\n",
        "plot_points(predictions=test_pred.cpu())"
      ],
      "metadata": {
        "colab": {
          "base_uri": "https://localhost:8080/",
          "height": 600
        },
        "id": "dDZlQ2TM04wR",
        "outputId": "08db36e6-fe9d-4f7f-86bf-f4438ba103b9"
      },
      "execution_count": 251,
      "outputs": [
        {
          "output_type": "display_data",
          "data": {
            "text/plain": [
              "<Figure size 1000x700 with 1 Axes>"
            ],
            "image/png": "[encoded data removed]"
          },
          "metadata": {}
        }
      ]
    },
    {
      "cell_type": "code",
      "source": [
        "model_0.state_dict()"
      ],
      "metadata": {
        "colab": {
          "base_uri": "https://localhost:8080/"
        },
        "id": "YfX4cKyC1G6m",
        "outputId": "2aaf738f-4e68-4d20-f2a1-0b26e93f3964"
      },
      "execution_count": 252,
      "outputs": [
        {
          "output_type": "execute_result",
          "data": {
            "text/plain": [
              "OrderedDict([('weight', tensor([0.2883], device='cuda:0')),\n",
              "             ('bias', tensor([0.8901], device='cuda:0'))])"
            ]
          },
          "metadata": {},
          "execution_count": 252
        }
      ]
    },
    {
      "cell_type": "code",
      "source": [
        "from pathlib import Path\n",
        "MODEL_PATH = Path('models')\n",
        "MODEL_PATH.mkdir(parents=True, exist_ok=True)\n",
        "\n",
        "MODEL_NAME = \"pytorch_excercise2_model.pth\"\n",
        "SAVE_MODEL_PATH = MODEL_PATH / MODEL_NAME\n",
        "\n",
        "SAVE_MODEL_PATH"
      ],
      "metadata": {
        "colab": {
          "base_uri": "https://localhost:8080/"
        },
        "id": "X2H7ZqB31QoY",
        "outputId": "43ff9ed0-a6f6-454a-867a-e8e7d6c5e18d"
      },
      "execution_count": 253,
      "outputs": [
        {
          "output_type": "execute_result",
          "data": {
            "text/plain": [
              "PosixPath('models/pytorch_excercise2_model.pth')"
            ]
          },
          "metadata": {},
          "execution_count": 253
        }
      ]
    },
    {
      "cell_type": "code",
      "source": [
        "torch.save(obj=model_0.state_dict(), f=SAVE_MODEL_PATH)"
      ],
      "metadata": {
        "id": "UHWC82YQ2E3d"
      },
      "execution_count": 254,
      "outputs": []
    },
    {
      "cell_type": "code",
      "source": [
        "torch.manual_seed(42)\n",
        "model_1 = LinearRegressionModel().to(device)\n",
        "model_1.state_dict()"
      ],
      "metadata": {
        "colab": {
          "base_uri": "https://localhost:8080/"
        },
        "id": "3bSbFs-52N_s",
        "outputId": "0ebaaeb3-fedb-4442-def7-ee431859d7e4"
      },
      "execution_count": 255,
      "outputs": [
        {
          "output_type": "execute_result",
          "data": {
            "text/plain": [
              "OrderedDict([('weight', tensor([0.8823], device='cuda:0')),\n",
              "             ('bias', tensor([0.9150], device='cuda:0'))])"
            ]
          },
          "metadata": {},
          "execution_count": 255
        }
      ]
    },
    {
      "cell_type": "code",
      "source": [
        "model_1.load_state_dict(torch.load(f=SAVE_MODEL_PATH))"
      ],
      "metadata": {
        "colab": {
          "base_uri": "https://localhost:8080/"
        },
        "id": "JigFt08S2VHq",
        "outputId": "c836f3c0-6edd-4c64-d7c1-2239fe280397"
      },
      "execution_count": 256,
      "outputs": [
        {
          "output_type": "execute_result",
          "data": {
            "text/plain": [
              "<All keys matched successfully>"
            ]
          },
          "metadata": {},
          "execution_count": 256
        }
      ]
    },
    {
      "cell_type": "code",
      "source": [
        "model_1.state_dict()"
      ],
      "metadata": {
        "colab": {
          "base_uri": "https://localhost:8080/"
        },
        "id": "kEAsqauY2hqU",
        "outputId": "a0292e02-ecd2-46d3-9921-130c5fe1ec4c"
      },
      "execution_count": 257,
      "outputs": [
        {
          "output_type": "execute_result",
          "data": {
            "text/plain": [
              "OrderedDict([('weight', tensor([0.2883], device='cuda:0')),\n",
              "             ('bias', tensor([0.8901], device='cuda:0'))])"
            ]
          },
          "metadata": {},
          "execution_count": 257
        }
      ]
    },
    {
      "cell_type": "code",
      "source": [
        "model_1.eval()\n",
        "with torch.inference_mode():\n",
        "\n",
        "  test_pred_2  = model_1(X_test)\n",
        "\n",
        "test_pred == test_pred_2"
      ],
      "metadata": {
        "colab": {
          "base_uri": "https://localhost:8080/"
        },
        "id": "RdE7exmA3EvF",
        "outputId": "63688a28-91d4-4272-a206-124fc81485a5"
      },
      "execution_count": 258,
      "outputs": [
        {
          "output_type": "execute_result",
          "data": {
            "text/plain": [
              "tensor([True, True, True, True, True, True, True, True, True, True, True, True,\n",
              "        True, True, True, True, True, True, True, True, True, True, True, True,\n",
              "        True, True, True, True, True], device='cuda:0')"
            ]
          },
          "metadata": {},
          "execution_count": 258
        }
      ]
    },
    {
      "cell_type": "code",
      "source": [
        "def plot_losses(model):\n",
        "  plt.figure(figsize=(10,7))\n",
        "  plt.plot(epoch_counts, np.array(torch.Tensor(train_losses).cpu().numpy()), label=\"Train Loss\")\n",
        "  plt.plot(epoch_counts, np.array(torch.Tensor(test_losses).cpu().numpy()), label=\"Test Loss\")\n",
        "  plt.xlabel(\"Epochs\")\n",
        "  plt.ylabel(\"Losses\")\n",
        "  plt.legend()"
      ],
      "metadata": {
        "id": "kk-SzGVG3SKS"
      },
      "execution_count": 259,
      "outputs": []
    },
    {
      "cell_type": "code",
      "source": [
        "plot_losses(model_0)"
      ],
      "metadata": {
        "colab": {
          "base_uri": "https://localhost:8080/",
          "height": 619
        },
        "id": "gvxlQaw241Iz",
        "outputId": "cff4eb98-b4a7-48c0-e4b7-ec657017cd04"
      },
      "execution_count": 260,
      "outputs": [
        {
          "output_type": "display_data",
          "data": {
            "text/plain": [
              "<Figure size 1000x700 with 1 Axes>"
            ],
            "image/png": "[encoded data removed]"
          },
          "metadata": {}
        }
      ]
    },
    {
      "cell_type": "code",
      "source": [],
      "metadata": {
        "id": "xw9bCJcR424n"
      },
      "execution_count": 260,
      "outputs": []
    }
  ]
}