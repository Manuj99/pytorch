{
  "nbformat": 4,
  "nbformat_minor": 0,
  "metadata": {
    "colab": {
      "provenance": [],
      "authorship_tag": "ABX9TyOuzgkFmGTmzawU+nfLohLR",
      "include_colab_link": true
    },
    "kernelspec": {
      "name": "python3",
      "display_name": "Python 3"
    },
    "language_info": {
      "name": "python"
    }
  },
  "cells": [
    {
      "cell_type": "markdown",
      "metadata": {
        "id": "view-in-github",
        "colab_type": "text"
      },
      "source": [
        "<a href=\"https://colab.research.google.com/github/Manuj99/pytorch/blob/main/pytorch_workflow.ipynb\" target=\"_parent\"><img src=\"https://colab.research.google.com/assets/colab-badge.svg\" alt=\"Open In Colab\"/></a>"
      ]
    },
    {
      "cell_type": "code",
      "execution_count": 1,
      "metadata": {
        "id": "NBiLRT2Qz7o_"
      },
      "outputs": [],
      "source": [
        "import torch\n",
        "from torch import nn\n",
        "import numpy as np\n",
        "import pandas as pd\n",
        "import matplotlib.pyplot as plt"
      ]
    },
    {
      "cell_type": "code",
      "source": [
        "torch.__version__"
      ],
      "metadata": {
        "colab": {
          "base_uri": "https://localhost:8080/",
          "height": 35
        },
        "id": "fCpxYtdoELk9",
        "outputId": "7edd543b-7947-4c4f-8c28-94fcac1cfe86"
      },
      "execution_count": 2,
      "outputs": [
        {
          "output_type": "execute_result",
          "data": {
            "text/plain": [
              "'2.8.0+cu126'"
            ],
            "application/vnd.google.colaboratory.intrinsic+json": {
              "type": "string"
            }
          },
          "metadata": {},
          "execution_count": 2
        }
      ]
    },
    {
      "cell_type": "code",
      "source": [
        "device = 'cuda' if torch.cuda.is_available() else 'cpu'"
      ],
      "metadata": {
        "id": "JFpyG9P_YPXm"
      },
      "execution_count": 3,
      "outputs": []
    },
    {
      "cell_type": "code",
      "source": [
        "weight = 0.7\n",
        "bias = 0.3\n",
        "\n",
        "start = 0\n",
        "end = 1\n",
        "step = 0.02\n",
        "\n",
        "X = torch.arange(start, end, step).unsqueeze(dim=1)\n",
        "y = weight * X + bias\n",
        "X[:10], y[:10], len(X), len(y)\n",
        "\n",
        "X = X.to(device)\n",
        "y = y.to(device)\n"
      ],
      "metadata": {
        "id": "wwddvKZgEi3z"
      },
      "execution_count": 4,
      "outputs": []
    },
    {
      "cell_type": "code",
      "source": [
        "train_split = int(0.8 * len(X))\n",
        "\n",
        "X_train, y_train = X[:train_split], y[:train_split]\n",
        "X_test, y_test = X[train_split:], y[train_split:]\n",
        "\n",
        "len(X_train), len(X_test), len(y_train), len(y_test)"
      ],
      "metadata": {
        "colab": {
          "base_uri": "https://localhost:8080/"
        },
        "id": "yCDebx6jFBfy",
        "outputId": "e4a476c0-b649-415a-f6c5-ab3a045258fa"
      },
      "execution_count": 5,
      "outputs": [
        {
          "output_type": "execute_result",
          "data": {
            "text/plain": [
              "(40, 10, 40, 10)"
            ]
          },
          "metadata": {},
          "execution_count": 5
        }
      ]
    },
    {
      "cell_type": "code",
      "source": [
        "X_train, X_test = X_train.to(device), X_test.to(device)\n",
        "y_train, y_test = y_train.to(device), y_test.to(device)"
      ],
      "metadata": {
        "id": "d8Y-uhN7ZYkv"
      },
      "execution_count": 6,
      "outputs": []
    },
    {
      "cell_type": "code",
      "source": [
        "# Data Visulaization\n",
        "def plot_parameters(train_data=X_train, test_data=X_test, train_labels=y_train, test_labels=y_test, predictions=None):\n",
        "  plt.figure(figsize=(10,7))\n",
        "\n",
        "  plt.scatter(train_data.cpu(), train_labels.cpu(), c='b', s=4, label=\"Training data\")\n",
        "\n",
        "  plt.scatter(test_data.cpu(), test_labels.cpu(), c='g', s=4, label=\"Test data\")\n",
        "\n",
        "  if predictions is not None:\n",
        "    plt.scatter(test_data.cpu(), predictions.cpu(), c='r', s=6, label=\"Predicted data\")\n",
        "\n",
        "  plt.legend(prop={\"size\":14})\n"
      ],
      "metadata": {
        "id": "Un_n2FbkFo-J"
      },
      "execution_count": 7,
      "outputs": []
    },
    {
      "cell_type": "code",
      "source": [
        "plot_parameters()"
      ],
      "metadata": {
        "colab": {
          "base_uri": "https://localhost:8080/",
          "height": 594
        },
        "id": "rSW77L7_F8jz",
        "outputId": "0242d9e0-6471-499f-d72d-932c2f1f74b7"
      },
      "execution_count": 8,
      "outputs": [
        {
          "output_type": "display_data",
          "data": {
            "text/plain": [
              "<Figure size 1000x700 with 1 Axes>"
            ],
            "image/png": "[encoded data removed]"
          },
          "metadata": {}
        }
      ]
    },
    {
      "cell_type": "code",
      "source": [
        "# Creating Model\n",
        "\n",
        "class LinearRegressionModel(nn.Module):\n",
        "  def __init__(self):\n",
        "    super().__init__()\n",
        "\n",
        "    self.weight = nn.Parameter(torch.rand(1, requires_grad=True, dtype=torch.float))\n",
        "    self.bias = nn.Parameter(torch.rand(1, requires_grad=True, dtype=torch.float))\n",
        "\n",
        "    self.weight.to(device)\n",
        "    self.bias.to(device)\n",
        "\n",
        "  def forward(self, x: torch.Tensor):\n",
        "    return self.weight * x + self.bias"
      ],
      "metadata": {
        "id": "Guhcxj9jGe1u"
      },
      "execution_count": 9,
      "outputs": []
    },
    {
      "cell_type": "code",
      "source": [
        "torch.manual_seed(42)\n",
        "model_0 = LinearRegressionModel()\n",
        "model_0 = model_0.to(device)"
      ],
      "metadata": {
        "id": "cW9SwH0-H9Dx"
      },
      "execution_count": 10,
      "outputs": []
    },
    {
      "cell_type": "code",
      "source": [
        "list(model_0.parameters())"
      ],
      "metadata": {
        "colab": {
          "base_uri": "https://localhost:8080/"
        },
        "id": "NCUDYFUxH_Qh",
        "outputId": "7ee1950a-0a34-468c-d9ae-4e29e4971d64"
      },
      "execution_count": 11,
      "outputs": [
        {
          "output_type": "execute_result",
          "data": {
            "text/plain": [
              "[Parameter containing:\n",
              " tensor([0.8823], requires_grad=True),\n",
              " Parameter containing:\n",
              " tensor([0.9150], requires_grad=True)]"
            ]
          },
          "metadata": {},
          "execution_count": 11
        }
      ]
    },
    {
      "cell_type": "code",
      "source": [
        "model_0.state_dict()"
      ],
      "metadata": {
        "colab": {
          "base_uri": "https://localhost:8080/"
        },
        "id": "Xym4a-5dIF-I",
        "outputId": "0bb86115-930a-46c0-c09d-490da43f4d92"
      },
      "execution_count": 12,
      "outputs": [
        {
          "output_type": "execute_result",
          "data": {
            "text/plain": [
              "OrderedDict([('weight', tensor([0.8823])), ('bias', tensor([0.9150]))])"
            ]
          },
          "metadata": {},
          "execution_count": 12
        }
      ]
    },
    {
      "cell_type": "code",
      "source": [
        "# with torch.no_grad():\n",
        "#   zero_preds = model_0(X_test)\n",
        "\n",
        "# zero_preds"
      ],
      "metadata": {
        "id": "xvrx6Mx-IuMK"
      },
      "execution_count": 13,
      "outputs": []
    },
    {
      "cell_type": "code",
      "source": [
        "# non_infer_preds = model_0(X_test)\n",
        "# non_infer_preds"
      ],
      "metadata": {
        "id": "t_BDdszYI6Ir"
      },
      "execution_count": 14,
      "outputs": []
    },
    {
      "cell_type": "code",
      "source": [
        "with torch.inference_mode():\n",
        "  initial_preds = model_0(X_test)\n",
        "\n",
        "initial_preds"
      ],
      "metadata": {
        "colab": {
          "base_uri": "https://localhost:8080/"
        },
        "id": "gEYzXRMWIVxM",
        "outputId": "28d8295b-c812-4a3d-abc5-9a2eb94afec6"
      },
      "execution_count": 15,
      "outputs": [
        {
          "output_type": "execute_result",
          "data": {
            "text/plain": [
              "tensor([[1.6208],\n",
              "        [1.6385],\n",
              "        [1.6561],\n",
              "        [1.6738],\n",
              "        [1.6914],\n",
              "        [1.7090],\n",
              "        [1.7267],\n",
              "        [1.7443],\n",
              "        [1.7620],\n",
              "        [1.7796]])"
            ]
          },
          "metadata": {},
          "execution_count": 15
        }
      ]
    },
    {
      "cell_type": "code",
      "source": [
        "plot_parameters(predictions=initial_preds)"
      ],
      "metadata": {
        "colab": {
          "base_uri": "https://localhost:8080/",
          "height": 594
        },
        "id": "P5JIdnSHIfpg",
        "outputId": "7a3816da-148a-49bf-e756-42faab535db9"
      },
      "execution_count": 16,
      "outputs": [
        {
          "output_type": "display_data",
          "data": {
            "text/plain": [
              "<Figure size 1000x700 with 1 Axes>"
            ],
            "image/png": "[encoded data removed]"
          },
          "metadata": {}
        }
      ]
    },
    {
      "cell_type": "code",
      "source": [
        "# setting up loss function\n",
        "loss_func = nn.L1Loss()\n",
        "loss_func"
      ],
      "metadata": {
        "colab": {
          "base_uri": "https://localhost:8080/"
        },
        "id": "RZMGcUOaIipp",
        "outputId": "7921fd56-dce8-4397-f248-d24730161612"
      },
      "execution_count": 17,
      "outputs": [
        {
          "output_type": "execute_result",
          "data": {
            "text/plain": [
              "L1Loss()"
            ]
          },
          "metadata": {},
          "execution_count": 17
        }
      ]
    },
    {
      "cell_type": "code",
      "source": [
        "# setting up optimizer(Stochastic Gradient Descent)\n",
        "optimizer = torch.optim.SGD(model_0.parameters(), lr=0.01)\n",
        "optimizer"
      ],
      "metadata": {
        "colab": {
          "base_uri": "https://localhost:8080/"
        },
        "id": "OwfF142FJO6m",
        "outputId": "eff6f1a8-5dcf-4af1-d81b-3f0a9bf3beb4"
      },
      "execution_count": 18,
      "outputs": [
        {
          "output_type": "execute_result",
          "data": {
            "text/plain": [
              "SGD (\n",
              "Parameter Group 0\n",
              "    dampening: 0\n",
              "    differentiable: False\n",
              "    foreach: None\n",
              "    fused: None\n",
              "    lr: 0.01\n",
              "    maximize: False\n",
              "    momentum: 0\n",
              "    nesterov: False\n",
              "    weight_decay: 0\n",
              ")"
            ]
          },
          "metadata": {},
          "execution_count": 18
        }
      ]
    },
    {
      "cell_type": "code",
      "source": [
        "epoch_counts = []\n",
        "epoch_train_loss = []\n",
        "epoch_test_loss = []"
      ],
      "metadata": {
        "id": "MVUpIk_9VHAU"
      },
      "execution_count": 19,
      "outputs": []
    },
    {
      "cell_type": "code",
      "source": [
        "def test_model(test_data, test_labels, model_0, epoch, loss):\n",
        "  model_0.eval()\n",
        "\n",
        "  with torch.inference_mode():\n",
        "    test_pred = model_0(test_data)\n",
        "\n",
        "    test_loss = loss_func(test_pred, test_labels)\n",
        "\n",
        "  if epoch % 10 == 0:\n",
        "    epoch_counts.append(epoch)\n",
        "    epoch_train_loss.append(loss)\n",
        "    epoch_test_loss.append(test_loss)\n",
        "    print(f\"Iteration {epoch}: Test Loss = {test_loss}, Training_loss = {loss}\")"
      ],
      "metadata": {
        "id": "TKCxl_suQ5HN"
      },
      "execution_count": 20,
      "outputs": []
    },
    {
      "cell_type": "code",
      "source": [
        "def train_model(model_0, train_data, train_labels, epochs, test_data, test_labels):\n",
        "  for epoch in range(epochs): # Run a train loop\n",
        "    model_0.train() # Initialize model to train mode\n",
        "\n",
        "    y_pred = model_0(train_data) # Make Initial Predictions\n",
        "\n",
        "    loss = loss_func(y_pred, train_labels) # Calculate loss\n",
        "    # print(f\"Iteration {epoch} -> Loss: {loss}\")\n",
        "\n",
        "    optimizer.zero_grad() # Set optimizer to zero grad for fresh start otherwise all the predictions get accumulated at optimizer step\n",
        "\n",
        "    loss.backward() # Back propagation\n",
        "\n",
        "    optimizer.step() # Gradient Descent\n",
        "\n",
        "    test_model(test_data, test_labels, model_0, epoch, loss)\n",
        "\n",
        "    # print(model_0.state_dict())\n"
      ],
      "metadata": {
        "id": "4lZxQXe9JhXo"
      },
      "execution_count": 21,
      "outputs": []
    },
    {
      "cell_type": "code",
      "source": [
        "train_model(model_0,X_train, y_train, 100, X_test, y_test)"
      ],
      "metadata": {
        "colab": {
          "base_uri": "https://localhost:8080/"
        },
        "id": "gz4oMUhuK5yH",
        "outputId": "b770c502-d9fe-4b76-f23b-b5667ad1223a"
      },
      "execution_count": 22,
      "outputs": [
        {
          "output_type": "stream",
          "name": "stdout",
          "text": [
            "Iteration 0: Test Loss = 0.7637526988983154, Training_loss = 0.6860889196395874\n",
            "Iteration 10: Test Loss = 0.6290428042411804, Training_loss = 0.5708791017532349\n",
            "Iteration 20: Test Loss = 0.4943329691886902, Training_loss = 0.45566922426223755\n",
            "Iteration 30: Test Loss = 0.35962313413619995, Training_loss = 0.34045934677124023\n",
            "Iteration 40: Test Loss = 0.2249133139848709, Training_loss = 0.2252494841814041\n",
            "Iteration 50: Test Loss = 0.09020347893238068, Training_loss = 0.1100396141409874\n",
            "Iteration 60: Test Loss = 0.020998019725084305, Training_loss = 0.009724985808134079\n",
            "Iteration 70: Test Loss = 0.014099234715104103, Training_loss = 0.006216754671186209\n",
            "Iteration 80: Test Loss = 0.005826681852340698, Training_loss = 0.002788322512060404\n",
            "Iteration 90: Test Loss = 0.00754010071977973, Training_loss = 0.007095950655639172\n"
          ]
        }
      ]
    },
    {
      "cell_type": "code",
      "source": [
        "epoch_counts, np.array(torch.tensor(epoch_train_loss).cpu().numpy()), epoch_test_loss"
      ],
      "metadata": {
        "colab": {
          "base_uri": "https://localhost:8080/"
        },
        "id": "fLOgP-IMVWqi",
        "outputId": "1fb5b284-9eb7-471c-8b02-e66495de6dff"
      },
      "execution_count": 23,
      "outputs": [
        {
          "output_type": "stream",
          "name": "stderr",
          "text": [
            "/tmp/ipython-input-2947357066.py:1: UserWarning: Converting a tensor with requires_grad=True to a scalar may lead to unexpected behavior.\n",
            "Consider using tensor.detach() first. (Triggered internally at /pytorch/torch/csrc/autograd/generated/python_variable_methods.cpp:835.)\n",
            "  epoch_counts, np.array(torch.tensor(epoch_train_loss).cpu().numpy()), epoch_test_loss\n"
          ]
        },
        {
          "output_type": "execute_result",
          "data": {
            "text/plain": [
              "([0, 10, 20, 30, 40, 50, 60, 70, 80, 90],\n",
              " array([0.6860889 , 0.5708791 , 0.45566922, 0.34045935, 0.22524948,\n",
              "        0.11003961, 0.00972499, 0.00621675, 0.00278832, 0.00709595],\n",
              "       dtype=float32),\n",
              " [tensor(0.7638),\n",
              "  tensor(0.6290),\n",
              "  tensor(0.4943),\n",
              "  tensor(0.3596),\n",
              "  tensor(0.2249),\n",
              "  tensor(0.0902),\n",
              "  tensor(0.0210),\n",
              "  tensor(0.0141),\n",
              "  tensor(0.0058),\n",
              "  tensor(0.0075)])"
            ]
          },
          "metadata": {},
          "execution_count": 23
        }
      ]
    },
    {
      "cell_type": "code",
      "source": [
        "plt.plot(epoch_counts, np.array(torch.tensor(epoch_train_loss).cpu().numpy()), label=\"Train Loss\")\n",
        "plt.plot(epoch_counts, np.array(torch.tensor(epoch_test_loss).cpu().numpy()), label=\"Test Loss\")\n",
        "plt.title(\"Training vs Test Loss\")\n",
        "plt.xlabel(\"Epochs\")\n",
        "plt.ylabel(\"Loss\")\n",
        "plt.legend()"
      ],
      "metadata": {
        "colab": {
          "base_uri": "https://localhost:8080/",
          "height": 489
        },
        "id": "_NGbyhMXVra7",
        "outputId": "d9b4ca55-0b78-4909-a3b6-a795c026ff23"
      },
      "execution_count": 24,
      "outputs": [
        {
          "output_type": "execute_result",
          "data": {
            "text/plain": [
              "<matplotlib.legend.Legend at 0x794e44de2c60>"
            ]
          },
          "metadata": {},
          "execution_count": 24
        },
        {
          "output_type": "display_data",
          "data": {
            "text/plain": [
              "<Figure size 640x480 with 1 Axes>"
            ],
            "image/png": "[encoded data removed]"
          },
          "metadata": {}
        }
      ]
    },
    {
      "cell_type": "code",
      "source": [
        "print(model_0.state_dict())"
      ],
      "metadata": {
        "colab": {
          "base_uri": "https://localhost:8080/"
        },
        "id": "t82EPnySL0no",
        "outputId": "8e41a53a-f787-4a71-e433-fbfa23999855"
      },
      "execution_count": 25,
      "outputs": [
        {
          "output_type": "stream",
          "name": "stdout",
          "text": [
            "OrderedDict({'weight': tensor([0.6977]), 'bias': tensor([0.3080])})\n"
          ]
        }
      ]
    },
    {
      "cell_type": "code",
      "source": [
        "with torch.inference_mode():\n",
        "  final_preds = model_0(X_test)\n",
        "# final_preds"
      ],
      "metadata": {
        "id": "k1a2OtNPK_1D"
      },
      "execution_count": 26,
      "outputs": []
    },
    {
      "cell_type": "code",
      "source": [
        "plot_parameters(predictions=final_preds)"
      ],
      "metadata": {
        "colab": {
          "base_uri": "https://localhost:8080/",
          "height": 594
        },
        "id": "Ys-Ocoo9LZ2n",
        "outputId": "193418df-e2f3-4c57-b16e-dfcf1ed72bdd"
      },
      "execution_count": 27,
      "outputs": [
        {
          "output_type": "display_data",
          "data": {
            "text/plain": [
              "<Figure size 1000x700 with 1 Axes>"
            ],
            "image/png": "[encoded data removed]"
          },
          "metadata": {}
        }
      ]
    },
    {
      "cell_type": "code",
      "source": [
        "# save and load the model\n",
        "model_0.state_dict()"
      ],
      "metadata": {
        "colab": {
          "base_uri": "https://localhost:8080/"
        },
        "id": "sadhwc0CLc5c",
        "outputId": "0c17b359-990e-4346-a130-df57284ad775"
      },
      "execution_count": 28,
      "outputs": [
        {
          "output_type": "execute_result",
          "data": {
            "text/plain": [
              "OrderedDict([('weight', tensor([0.6977])), ('bias', tensor([0.3080]))])"
            ]
          },
          "metadata": {},
          "execution_count": 28
        }
      ]
    },
    {
      "cell_type": "code",
      "source": [
        "from pathlib import Path\n",
        "MODEL_PATH = Path(\"models\")\n",
        "MODEL_PATH.mkdir(parents=True, exist_ok=True)\n",
        "MODEL_NAME = \"001_LinearRegressionModel_01.pth\"\n",
        "MODEL_SAVE_PATH = MODEL_PATH / MODEL_NAME\n",
        "\n",
        "MODEL_SAVE_PATH"
      ],
      "metadata": {
        "colab": {
          "base_uri": "https://localhost:8080/"
        },
        "id": "QI2eR7XzTd7K",
        "outputId": "ea3dd0df-f270-49bd-ab13-387fb93d9bbb"
      },
      "execution_count": 29,
      "outputs": [
        {
          "output_type": "execute_result",
          "data": {
            "text/plain": [
              "PosixPath('models/001_LinearRegressionModel_01.pth')"
            ]
          },
          "metadata": {},
          "execution_count": 29
        }
      ]
    },
    {
      "cell_type": "code",
      "source": [
        "torch.save(obj=model_0.state_dict(), f=MODEL_SAVE_PATH)"
      ],
      "metadata": {
        "id": "2nlQ1dPSUAry"
      },
      "execution_count": 30,
      "outputs": []
    },
    {
      "cell_type": "code",
      "source": [
        "model_1 = LinearRegressionModel()\n",
        "model_1"
      ],
      "metadata": {
        "colab": {
          "base_uri": "https://localhost:8080/"
        },
        "id": "qAVdJeNeUOpb",
        "outputId": "24cdfdd0-78aa-4321-a565-99f302f80562"
      },
      "execution_count": 31,
      "outputs": [
        {
          "output_type": "execute_result",
          "data": {
            "text/plain": [
              "LinearRegressionModel()"
            ]
          },
          "metadata": {},
          "execution_count": 31
        }
      ]
    },
    {
      "cell_type": "code",
      "source": [
        "model_1.state_dict()"
      ],
      "metadata": {
        "colab": {
          "base_uri": "https://localhost:8080/"
        },
        "id": "Q7gBq_QhUSZY",
        "outputId": "29a148e2-f300-4959-9fe4-b17a891656e5"
      },
      "execution_count": 32,
      "outputs": [
        {
          "output_type": "execute_result",
          "data": {
            "text/plain": [
              "OrderedDict([('weight', tensor([0.3829])), ('bias', tensor([0.9593]))])"
            ]
          },
          "metadata": {},
          "execution_count": 32
        }
      ]
    },
    {
      "cell_type": "code",
      "source": [
        "model_1.load_state_dict(torch.load(f=MODEL_SAVE_PATH))"
      ],
      "metadata": {
        "colab": {
          "base_uri": "https://localhost:8080/"
        },
        "id": "Lfo8pcZqUXel",
        "outputId": "7136b856-b6cc-4ea6-f24f-57e8370f51fc"
      },
      "execution_count": 33,
      "outputs": [
        {
          "output_type": "execute_result",
          "data": {
            "text/plain": [
              "<All keys matched successfully>"
            ]
          },
          "metadata": {},
          "execution_count": 33
        }
      ]
    },
    {
      "cell_type": "code",
      "source": [
        "model_1.state_dict()"
      ],
      "metadata": {
        "colab": {
          "base_uri": "https://localhost:8080/"
        },
        "id": "jKw8OMl2Uguu",
        "outputId": "5a0520f6-a27f-436a-aeb1-5a6bca39c844"
      },
      "execution_count": 34,
      "outputs": [
        {
          "output_type": "execute_result",
          "data": {
            "text/plain": [
              "OrderedDict([('weight', tensor([0.6977])), ('bias', tensor([0.3080]))])"
            ]
          },
          "metadata": {},
          "execution_count": 34
        }
      ]
    },
    {
      "cell_type": "code",
      "source": [
        "model_1.eval()\n",
        "with torch.inference_mode():\n",
        "  y_pred = model_1(X_test)\n",
        "(final_preds==y_pred).squeeze()"
      ],
      "metadata": {
        "colab": {
          "base_uri": "https://localhost:8080/"
        },
        "id": "259ET_tEUjTS",
        "outputId": "b1f25f01-06f4-47cf-aef6-ce69b47884ac"
      },
      "execution_count": 35,
      "outputs": [
        {
          "output_type": "execute_result",
          "data": {
            "text/plain": [
              "tensor([True, True, True, True, True, True, True, True, True, True])"
            ]
          },
          "metadata": {},
          "execution_count": 35
        }
      ]
    },
    {
      "cell_type": "code",
      "source": [
        "next(model_1.parameters()).device"
      ],
      "metadata": {
        "colab": {
          "base_uri": "https://localhost:8080/"
        },
        "id": "NeMnANYbUx5I",
        "outputId": "ef00a003-2254-436b-c347-05405e338f71"
      },
      "execution_count": 36,
      "outputs": [
        {
          "output_type": "execute_result",
          "data": {
            "text/plain": [
              "device(type='cpu')"
            ]
          },
          "metadata": {},
          "execution_count": 36
        }
      ]
    },
    {
      "cell_type": "code",
      "source": [
        "torch.manual_seed(69)\n",
        "class LinearRegressionModel_V1(nn.Module):\n",
        "  def __init__(self):\n",
        "    super().__init__()\n",
        "    self.layer1 = nn.Linear(in_features=1, out_features=1)\n",
        "\n",
        "  def forward(self, x:torch.Tensor) -> torch.Tensor:\n",
        "    return self.layer1(x)"
      ],
      "metadata": {
        "id": "EtaAlvjxU9PM"
      },
      "execution_count": 106,
      "outputs": []
    },
    {
      "cell_type": "code",
      "source": [
        "model_2 = LinearRegressionModel_V1()\n",
        "model_2.state_dict()"
      ],
      "metadata": {
        "colab": {
          "base_uri": "https://localhost:8080/"
        },
        "id": "GK_YhtZ_Vkim",
        "outputId": "1bd00ef9-1e0f-430c-d970-696e30110404"
      },
      "execution_count": 107,
      "outputs": [
        {
          "output_type": "execute_result",
          "data": {
            "text/plain": [
              "OrderedDict([('layer1.weight', tensor([[0.6796]])),\n",
              "             ('layer1.bias', tensor([0.6083]))])"
            ]
          },
          "metadata": {},
          "execution_count": 107
        }
      ]
    },
    {
      "cell_type": "code",
      "source": [
        "model_2.to(device)"
      ],
      "metadata": {
        "colab": {
          "base_uri": "https://localhost:8080/"
        },
        "id": "k3h6r3PYVo8D",
        "outputId": "95d27bb5-9152-44ab-deca-56392248b880"
      },
      "execution_count": 108,
      "outputs": [
        {
          "output_type": "execute_result",
          "data": {
            "text/plain": [
              "LinearRegressionModel_V1(\n",
              "  (layer1): Linear(in_features=1, out_features=1, bias=True)\n",
              ")"
            ]
          },
          "metadata": {},
          "execution_count": 108
        }
      ]
    },
    {
      "cell_type": "code",
      "source": [
        "train_model(model_2, X_train, y_train, 1000, X_test, y_test)"
      ],
      "metadata": {
        "colab": {
          "base_uri": "https://localhost:8080/"
        },
        "id": "mvFVlK1-XVdt",
        "outputId": "c25d7566-2ef9-42fc-eda0-b4b2ebfd74df"
      },
      "execution_count": 109,
      "outputs": [
        {
          "output_type": "stream",
          "name": "stdout",
          "text": [
            "Iteration 0: Test Loss = 0.29011955857276917, Training_loss = 0.30033358931541443\n",
            "Iteration 10: Test Loss = 0.29011955857276917, Training_loss = 0.30033358931541443\n",
            "Iteration 20: Test Loss = 0.29011955857276917, Training_loss = 0.30033358931541443\n",
            "Iteration 30: Test Loss = 0.29011955857276917, Training_loss = 0.30033358931541443\n",
            "Iteration 40: Test Loss = 0.29011955857276917, Training_loss = 0.30033358931541443\n",
            "Iteration 50: Test Loss = 0.29011955857276917, Training_loss = 0.30033358931541443\n",
            "Iteration 60: Test Loss = 0.29011955857276917, Training_loss = 0.30033358931541443\n",
            "Iteration 70: Test Loss = 0.29011955857276917, Training_loss = 0.30033358931541443\n",
            "Iteration 80: Test Loss = 0.29011955857276917, Training_loss = 0.30033358931541443\n",
            "Iteration 90: Test Loss = 0.29011955857276917, Training_loss = 0.30033358931541443\n",
            "Iteration 100: Test Loss = 0.29011955857276917, Training_loss = 0.30033358931541443\n",
            "Iteration 110: Test Loss = 0.29011955857276917, Training_loss = 0.30033358931541443\n",
            "Iteration 120: Test Loss = 0.29011955857276917, Training_loss = 0.30033358931541443\n",
            "Iteration 130: Test Loss = 0.29011955857276917, Training_loss = 0.30033358931541443\n",
            "Iteration 140: Test Loss = 0.29011955857276917, Training_loss = 0.30033358931541443\n",
            "Iteration 150: Test Loss = 0.29011955857276917, Training_loss = 0.30033358931541443\n",
            "Iteration 160: Test Loss = 0.29011955857276917, Training_loss = 0.30033358931541443\n",
            "Iteration 170: Test Loss = 0.29011955857276917, Training_loss = 0.30033358931541443\n",
            "Iteration 180: Test Loss = 0.29011955857276917, Training_loss = 0.30033358931541443\n",
            "Iteration 190: Test Loss = 0.29011955857276917, Training_loss = 0.30033358931541443\n",
            "Iteration 200: Test Loss = 0.29011955857276917, Training_loss = 0.30033358931541443\n",
            "Iteration 210: Test Loss = 0.29011955857276917, Training_loss = 0.30033358931541443\n",
            "Iteration 220: Test Loss = 0.29011955857276917, Training_loss = 0.30033358931541443\n",
            "Iteration 230: Test Loss = 0.29011955857276917, Training_loss = 0.30033358931541443\n",
            "Iteration 240: Test Loss = 0.29011955857276917, Training_loss = 0.30033358931541443\n",
            "Iteration 250: Test Loss = 0.29011955857276917, Training_loss = 0.30033358931541443\n",
            "Iteration 260: Test Loss = 0.29011955857276917, Training_loss = 0.30033358931541443\n",
            "Iteration 270: Test Loss = 0.29011955857276917, Training_loss = 0.30033358931541443\n",
            "Iteration 280: Test Loss = 0.29011955857276917, Training_loss = 0.30033358931541443\n",
            "Iteration 290: Test Loss = 0.29011955857276917, Training_loss = 0.30033358931541443\n",
            "Iteration 300: Test Loss = 0.29011955857276917, Training_loss = 0.30033358931541443\n",
            "Iteration 310: Test Loss = 0.29011955857276917, Training_loss = 0.30033358931541443\n",
            "Iteration 320: Test Loss = 0.29011955857276917, Training_loss = 0.30033358931541443\n",
            "Iteration 330: Test Loss = 0.29011955857276917, Training_loss = 0.30033358931541443\n",
            "Iteration 340: Test Loss = 0.29011955857276917, Training_loss = 0.30033358931541443\n",
            "Iteration 350: Test Loss = 0.29011955857276917, Training_loss = 0.30033358931541443\n",
            "Iteration 360: Test Loss = 0.29011955857276917, Training_loss = 0.30033358931541443\n",
            "Iteration 370: Test Loss = 0.29011955857276917, Training_loss = 0.30033358931541443\n",
            "Iteration 380: Test Loss = 0.29011955857276917, Training_loss = 0.30033358931541443\n",
            "Iteration 390: Test Loss = 0.29011955857276917, Training_loss = 0.30033358931541443\n",
            "Iteration 400: Test Loss = 0.29011955857276917, Training_loss = 0.30033358931541443\n",
            "Iteration 410: Test Loss = 0.29011955857276917, Training_loss = 0.30033358931541443\n",
            "Iteration 420: Test Loss = 0.29011955857276917, Training_loss = 0.30033358931541443\n",
            "Iteration 430: Test Loss = 0.29011955857276917, Training_loss = 0.30033358931541443\n",
            "Iteration 440: Test Loss = 0.29011955857276917, Training_loss = 0.30033358931541443\n",
            "Iteration 450: Test Loss = 0.29011955857276917, Training_loss = 0.30033358931541443\n",
            "Iteration 460: Test Loss = 0.29011955857276917, Training_loss = 0.30033358931541443\n",
            "Iteration 470: Test Loss = 0.29011955857276917, Training_loss = 0.30033358931541443\n",
            "Iteration 480: Test Loss = 0.29011955857276917, Training_loss = 0.30033358931541443\n",
            "Iteration 490: Test Loss = 0.29011955857276917, Training_loss = 0.30033358931541443\n",
            "Iteration 500: Test Loss = 0.29011955857276917, Training_loss = 0.30033358931541443\n",
            "Iteration 510: Test Loss = 0.29011955857276917, Training_loss = 0.30033358931541443\n",
            "Iteration 520: Test Loss = 0.29011955857276917, Training_loss = 0.30033358931541443\n",
            "Iteration 530: Test Loss = 0.29011955857276917, Training_loss = 0.30033358931541443\n",
            "Iteration 540: Test Loss = 0.29011955857276917, Training_loss = 0.30033358931541443\n",
            "Iteration 550: Test Loss = 0.29011955857276917, Training_loss = 0.30033358931541443\n",
            "Iteration 560: Test Loss = 0.29011955857276917, Training_loss = 0.30033358931541443\n",
            "Iteration 570: Test Loss = 0.29011955857276917, Training_loss = 0.30033358931541443\n",
            "Iteration 580: Test Loss = 0.29011955857276917, Training_loss = 0.30033358931541443\n",
            "Iteration 590: Test Loss = 0.29011955857276917, Training_loss = 0.30033358931541443\n",
            "Iteration 600: Test Loss = 0.29011955857276917, Training_loss = 0.30033358931541443\n",
            "Iteration 610: Test Loss = 0.29011955857276917, Training_loss = 0.30033358931541443\n",
            "Iteration 620: Test Loss = 0.29011955857276917, Training_loss = 0.30033358931541443\n",
            "Iteration 630: Test Loss = 0.29011955857276917, Training_loss = 0.30033358931541443\n",
            "Iteration 640: Test Loss = 0.29011955857276917, Training_loss = 0.30033358931541443\n",
            "Iteration 650: Test Loss = 0.29011955857276917, Training_loss = 0.30033358931541443\n",
            "Iteration 660: Test Loss = 0.29011955857276917, Training_loss = 0.30033358931541443\n",
            "Iteration 670: Test Loss = 0.29011955857276917, Training_loss = 0.30033358931541443\n",
            "Iteration 680: Test Loss = 0.29011955857276917, Training_loss = 0.30033358931541443\n",
            "Iteration 690: Test Loss = 0.29011955857276917, Training_loss = 0.30033358931541443\n",
            "Iteration 700: Test Loss = 0.29011955857276917, Training_loss = 0.30033358931541443\n",
            "Iteration 710: Test Loss = 0.29011955857276917, Training_loss = 0.30033358931541443\n",
            "Iteration 720: Test Loss = 0.29011955857276917, Training_loss = 0.30033358931541443\n",
            "Iteration 730: Test Loss = 0.29011955857276917, Training_loss = 0.30033358931541443\n",
            "Iteration 740: Test Loss = 0.29011955857276917, Training_loss = 0.30033358931541443\n",
            "Iteration 750: Test Loss = 0.29011955857276917, Training_loss = 0.30033358931541443\n",
            "Iteration 760: Test Loss = 0.29011955857276917, Training_loss = 0.30033358931541443\n",
            "Iteration 770: Test Loss = 0.29011955857276917, Training_loss = 0.30033358931541443\n",
            "Iteration 780: Test Loss = 0.29011955857276917, Training_loss = 0.30033358931541443\n",
            "Iteration 790: Test Loss = 0.29011955857276917, Training_loss = 0.30033358931541443\n",
            "Iteration 800: Test Loss = 0.29011955857276917, Training_loss = 0.30033358931541443\n",
            "Iteration 810: Test Loss = 0.29011955857276917, Training_loss = 0.30033358931541443\n",
            "Iteration 820: Test Loss = 0.29011955857276917, Training_loss = 0.30033358931541443\n",
            "Iteration 830: Test Loss = 0.29011955857276917, Training_loss = 0.30033358931541443\n",
            "Iteration 840: Test Loss = 0.29011955857276917, Training_loss = 0.30033358931541443\n",
            "Iteration 850: Test Loss = 0.29011955857276917, Training_loss = 0.30033358931541443\n",
            "Iteration 860: Test Loss = 0.29011955857276917, Training_loss = 0.30033358931541443\n",
            "Iteration 870: Test Loss = 0.29011955857276917, Training_loss = 0.30033358931541443\n",
            "Iteration 880: Test Loss = 0.29011955857276917, Training_loss = 0.30033358931541443\n",
            "Iteration 890: Test Loss = 0.29011955857276917, Training_loss = 0.30033358931541443\n",
            "Iteration 900: Test Loss = 0.29011955857276917, Training_loss = 0.30033358931541443\n",
            "Iteration 910: Test Loss = 0.29011955857276917, Training_loss = 0.30033358931541443\n",
            "Iteration 920: Test Loss = 0.29011955857276917, Training_loss = 0.30033358931541443\n",
            "Iteration 930: Test Loss = 0.29011955857276917, Training_loss = 0.30033358931541443\n",
            "Iteration 940: Test Loss = 0.29011955857276917, Training_loss = 0.30033358931541443\n",
            "Iteration 950: Test Loss = 0.29011955857276917, Training_loss = 0.30033358931541443\n",
            "Iteration 960: Test Loss = 0.29011955857276917, Training_loss = 0.30033358931541443\n",
            "Iteration 970: Test Loss = 0.29011955857276917, Training_loss = 0.30033358931541443\n",
            "Iteration 980: Test Loss = 0.29011955857276917, Training_loss = 0.30033358931541443\n",
            "Iteration 990: Test Loss = 0.29011955857276917, Training_loss = 0.30033358931541443\n"
          ]
        }
      ]
    },
    {
      "cell_type": "code",
      "source": [
        "model_2.eval()\n",
        "with torch.inference_mode():\n",
        "  model2_pred = model_2(X_test)\n",
        "model2_pred"
      ],
      "metadata": {
        "colab": {
          "base_uri": "https://localhost:8080/"
        },
        "id": "v-0HvCRMX9Sp",
        "outputId": "1258d1b7-148b-4898-8bc4-af4a0f71bc90"
      },
      "execution_count": 110,
      "outputs": [
        {
          "output_type": "execute_result",
          "data": {
            "text/plain": [
              "tensor([[1.1520],\n",
              "        [1.1655],\n",
              "        [1.1791],\n",
              "        [1.1927],\n",
              "        [1.2063],\n",
              "        [1.2199],\n",
              "        [1.2335],\n",
              "        [1.2471],\n",
              "        [1.2607],\n",
              "        [1.2743]])"
            ]
          },
          "metadata": {},
          "execution_count": 110
        }
      ]
    },
    {
      "cell_type": "code",
      "source": [
        "plot_parameters(predictions=model2_pred)"
      ],
      "metadata": {
        "colab": {
          "base_uri": "https://localhost:8080/",
          "height": 594
        },
        "id": "QNi6Py1vb2NG",
        "outputId": "ad8488d4-febf-4011-db87-1e9295d89bca"
      },
      "execution_count": 111,
      "outputs": [
        {
          "output_type": "display_data",
          "data": {
            "text/plain": [
              "<Figure size 1000x700 with 1 Axes>"
            ],
            "image/png": "[encoded data removed]"
          },
          "metadata": {}
        }
      ]
    },
    {
      "cell_type": "code",
      "source": [],
      "metadata": {
        "id": "enPN6a05lhNg"
      },
      "execution_count": null,
      "outputs": []
    }
  ]
}